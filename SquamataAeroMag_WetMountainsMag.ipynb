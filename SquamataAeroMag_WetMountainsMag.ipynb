{
 "cells": [
  {
   "cell_type": "markdown",
   "metadata": {},
   "source": [
    "# SquamataAeroMag - Jupyter notebook for creating metadata for Aeromagnetic data-releases to ScienceBase\n",
    "\n",
    "### Version 1.8\n",
    "\n",
    "#### Visit https://github.com/pbrown-usgs/SquamataAeroMag/blob/master/SquamataAeroMagEntityAndAttributeArchive.ipynb for Entity and Attribute code from previous Airborne magnetic surveys\n",
    "\n",
    "This module performs the following operations:\n",
    "- Create list of data directories.\n",
    "- Identify files accompanying data release.\n",
    "- Create file listing for metadata XML markup.\n",
    "- Identify and load Aeromagnetic *.CSV data file.\n",
    "- Create file list of data release files\n",
    "- Create User Editable Keywords Listing\n",
    "- Create entity and attribute XML markup for all files being released.\n",
    "- Poplulate metadata template\n",
    "- Validate metadata; create error log; create HTML and FGDC Text versions of the metadata. (In development - use https://mrdata.usgs.gov/validation/ for validation in the interim)\n",
    "\n",
    "Known issues needing repair:\n",
    "- Add items here...\n",
    "\n",
    "## Future development plans for SquamataSB\n",
    "\n",
    "- Create all child metadata files from first example created in previous steps. \n",
    "- Batch upload files to ScienceBase.\n",
    "- Batch remove files from ScienceBase. \n",
    "- Change ScienceBase parameters such as citation information, add orcid ids, add USGS CMS tags, etc. \n",
    "\n",
    "### Instructions\n",
    "- Create a template xml format that contains boilerplate text common to all childeren in a data release.  Be sure this template contains the approriate curly bracket tags, {SquamataTagExample} used to populate the template using SquamataAeromag.\n",
    "\n",
    "### To execute a function/command select a cell and Hold-Shift + Press-Enter\n",
    "\n",
    "**The 'r' signifies a string literal. Use for paths.**\n",
    "\n",
    "Metadata wizard:  Advanced, Open In a jupyter Notebook?\n",
    "Metadata Wizard 2.o from ScienceBase\n",
    "\n",
    "v1.0: Read csv File into pandas\n",
    "v1.1: Create Array of csv column headers, assign header array of channel descriptions and units, create entity and attribute text for csv file\n",
    "v1.2 Create file listing, create editable keywords text\n",
    "v1.3 Creat entity and attributes for files other than CSV\n",
    "v1.4 Populate metadata template\n",
    "v1.5 Populate variables with boilerplate text, create file lists, write to metadata template.\n",
    "v1.8 Add standard Order\n"
   ]
  },
  {
   "cell_type": "code",
   "execution_count": 36,
   "metadata": {},
   "outputs": [],
   "source": [
    "# IP-139145\n",
    "# https://doi.org/10.5066/P9PISI0X\n",
    "# https://www.sciencebase.gov/catalog/item/623219c9d34ec9f19eeb418b\n",
    "# https://doimspp.sharepoint.com/sites/GGGSCDataManagementTeam/Shared%20Documents/Forms/AllItems.aspx?id=%2Fsites%2FGGGSCDataManagementTeam%2FShared%20Documents%2FData%20Release%20Folders%2FIP%2D139145&viewid=702ca40b%2D95b5%2D468b%2Db70c%2D4138d6c00db5"
   ]
  },
  {
   "cell_type": "code",
   "execution_count": 37,
   "metadata": {},
   "outputs": [],
   "source": [
    "# Phil Brown (pbrown@usgs.gov) 2019 Beta\n",
    "# Working Python 3 Notebook used to facilitate the release of Audio Magnetotelluric (AMT) Data to ScienceBase."
   ]
  },
  {
   "cell_type": "code",
   "execution_count": 38,
   "metadata": {},
   "outputs": [
    {
     "name": "stdout",
     "output_type": "stream",
     "text": [
      "Jupyter is working.\n"
     ]
    }
   ],
   "source": [
    "# Test Cell\n",
    "print (\"Jupyter is working.\") #To run this cell, hold down Shift and press Enter."
   ]
  },
  {
   "cell_type": "code",
   "execution_count": 39,
   "metadata": {},
   "outputs": [],
   "source": [
    "# Load required Libraries\n",
    "import sys\n",
    "import os\n",
    "import zipfile\n",
    "import csv\n",
    "import requests\n",
    "import shutil\n",
    "from shutil import copyfile\n",
    "import zipfile\n",
    "import datetime\n",
    "import glob\n",
    "from lxml import etree\n",
    "import json\n",
    "import pickle\n",
    "import shutil\n",
    "import fileinput\n",
    "import json\n",
    "import pandas as pd\n",
    "import numpy as np\n",
    "from IPython.core.display import display\n",
    "from IPython.core.display import HTML\n",
    "from lxml import etree\n",
    "import re\n",
    "from ipywidgets import *\n",
    "from IPython.display import display\n",
    "from IPython.html.widgets import widgets\n",
    "import datetime\n",
    "import dateutil.parser\n",
    "import time\n",
    "from IPython.display import Javascript\n",
    "import sciencebasepy as pysb"
   ]
  },
  {
   "cell_type": "markdown",
   "metadata": {},
   "source": [
    "# Collect Information For Metadata Template"
   ]
  },
  {
   "cell_type": "code",
   "execution_count": 40,
   "metadata": {},
   "outputs": [
    {
     "name": "stdout",
     "output_type": "stream",
     "text": [
      "Origin text:\n",
      "\n",
      "\t\t\t\t<origin>Grauch, V.J.S.</origin>\n",
      "\t\t\t\t<origin>Anderson, E.D.</origin>\n",
      "\t\t\t\t<origin>Brown, P.J.</origin>\n"
     ]
    }
   ],
   "source": [
    "# Create an Array of Origin Names between single quotes below\n",
    "arrOrigin = []\n",
    "\n",
    "#Change Text Below to the Appropriate Data Release Creators - seperate list items in single quotes ('')\n",
    "# seperated by a comma (,).\n",
    "#########################################################################################################################\n",
    "arrOrigin = ['Grauch, V.J.S.', 'Anderson, E.D.', 'Brown, P.J.'] \n",
    "#########################################################################################################################\n",
    "origin = ''\n",
    "for i in range(len(arrOrigin)):\n",
    "    origin = origin + '\\n\\t\\t\\t\\t<origin>' + arrOrigin[i] + '</origin>'\n",
    "\n",
    "print ('Origin text:') \n",
    "print (origin)    "
   ]
  },
  {
   "cell_type": "markdown",
   "metadata": {},
   "source": [
    "###  -- Replace with month, day, year (YYYYMMDD) you request SB page to go live --"
   ]
  },
  {
   "cell_type": "code",
   "execution_count": 41,
   "metadata": {},
   "outputs": [
    {
     "name": "stdout",
     "output_type": "stream",
     "text": [
      "20220630\n"
     ]
    }
   ],
   "source": [
    "#Enter Pub Date between single quotes below\n",
    "\n",
    "#########################################################################################################################\n",
    "pubdate = '20220630'\n",
    "#########################################################################################################################\n",
    "print (pubdate)"
   ]
  },
  {
   "cell_type": "code",
   "execution_count": 42,
   "metadata": {},
   "outputs": [
    {
     "name": "stdout",
     "output_type": "stream",
     "text": [
      "Airborne magnetic and radiometric survey of the Wet Mountains and surrounding region, Custer and Fremont Counties, south-central Colorado, 2021\n"
     ]
    }
   ],
   "source": [
    "#Enter Data Release Title between single quotes below\n",
    "\n",
    "#########################################################################################################################\n",
    "title = 'Airborne magnetic and radiometric survey of the Wet Mountains and surrounding region, Custer and Fremont Counties, south-central Colorado, 2021'\n",
    "#########################################################################################################################\n",
    "print (title)"
   ]
  },
  {
   "cell_type": "code",
   "execution_count": 43,
   "metadata": {},
   "outputs": [
    {
     "name": "stdout",
     "output_type": "stream",
     "text": [
      "Additional information about Originators: Tien V.J.S. Grauch, http://orcid.org/0000-0002-0761-3489; Eric D. Anderson, http://orcid.org/0000-0002-0138-6166; Philip J. Brown, http://orcid.org/0000-0002-2415-7462.  Suggested Citation: Grauch, V.J.S., Anderson, E.D., Brown, P.J., 2022, Airborne magnetic and radiometric survey of the Wet Mountains and surrounding region, Custer and Fremont Counties, south-central Colorado, 2021: U.S. Geological Survey data release, https://doi.org/10.5066/P9PISI0X.\n"
     ]
    }
   ],
   "source": [
    "#Enter Other Citation between single quotes below\n",
    "\n",
    "#########################################################################################################################\n",
    "othercit = 'Additional information about Originators: Tien V.J.S. Grauch, http://orcid.org/0000-0002-0761-3489; Eric D. Anderson, http://orcid.org/0000-0002-0138-6166; Philip J. Brown, http://orcid.org/0000-0002-2415-7462.  Suggested Citation: Grauch, V.J.S., Anderson, E.D., Brown, P.J., 2022, Airborne magnetic and radiometric survey of the Wet Mountains and surrounding region, Custer and Fremont Counties, south-central Colorado, 2021: U.S. Geological Survey data release, https://doi.org/10.5066/P9PISI0X.'\n",
    "#########################################################################################################################\n",
    "print (othercit)"
   ]
  },
  {
   "cell_type": "code",
   "execution_count": 44,
   "metadata": {},
   "outputs": [
    {
     "name": "stdout",
     "output_type": "stream",
     "text": [
      "https://doi.org/10.5066/P9PISI0X\n"
     ]
    }
   ],
   "source": [
    "#Enter Online Link between single quotes below\n",
    "\n",
    "##########################################################################################################################\n",
    "onlink = 'https://doi.org/10.5066/P9PISI0X'\n",
    "##########################################################################################################################\n",
    "print (onlink)"
   ]
  },
  {
   "cell_type": "markdown",
   "metadata": {},
   "source": [
    "### -- Please see minor edits to abstract. Please update the final sentences of the abstract to only refer to the mag data included in this child item --"
   ]
  },
  {
   "cell_type": "code",
   "execution_count": 45,
   "metadata": {},
   "outputs": [
    {
     "name": "stdout",
     "output_type": "stream",
     "text": [
      "This data release provides digital flight-line and gridded data for a high-resolution airborne magnetic and radiometric survey over the region surrounding the Wet Mountains of southern Colorado, including parts of Custer and Fremont Counties. Data for this survey were collected by Sander Geophysics Limited International (SGL) under contract with the USGS.  The survey was flown in June and July of 2021 using a helicopter equipped with a magnetometer mounted in a stinger extending from the nose of the aircraft and a gamma-ray spectrometer stowed onboard.  The helicopter pilots followed pre-planned flight paths in a grid-like pattern, with east-west lines spaced 150 meters apart and north-south lines spaced 1,000 meters apart.  A terrain clearance of 80 meters above ground could be realized in areas of low relief to maximize detection of gamma-rays, but higher clearances, as much as 200–500 meters, were required over rugged terrain and populated areas for safety reasons.  A total of 17,032 kilometers were flown along the lines, covering a 2,200 square-kilometer irregular area.  SGL performed extensive data processing after completion of flying and delivered the final data and report in February 2022.\n"
     ]
    }
   ],
   "source": [
    "#Enter Data Release Abstract between single quotes below\n",
    "\n",
    "###############################################################\n",
    "abstract = 'This data release provides digital flight-line and gridded data for a high-resolution airborne magnetic and radiometric survey over the region surrounding the Wet Mountains of southern Colorado, including parts of Custer and Fremont Counties. Data for this survey were collected by Sander Geophysics Limited International (SGL) under contract with the USGS.  The survey was flown in June and July of 2021 using a helicopter equipped with a magnetometer mounted in a stinger extending from the nose of the aircraft and a gamma-ray spectrometer stowed onboard.  The helicopter pilots followed pre-planned flight paths in a grid-like pattern, with east-west lines spaced 150 meters apart and north-south lines spaced 1,000 meters apart.  A terrain clearance of 80 meters above ground could be realized in areas of low relief to maximize detection of gamma-rays, but higher clearances, as much as 200–500 meters, were required over rugged terrain and populated areas for safety reasons.  A total of 17,032 kilometers were flown along the lines, covering a 2,200 square-kilometer irregular area.  SGL performed extensive data processing after completion of flying and delivered the final data and report in February 2022.'\n",
    "print (abstract)"
   ]
  },
  {
   "cell_type": "code",
   "execution_count": 46,
   "metadata": {},
   "outputs": [
    {
     "name": "stdout",
     "output_type": "stream",
     "text": [
      "These data were collected as part of the Earth Mapping Resource Initiative (Earth MRI) program of the U.S. Geological Survey (USGS) in collaboration with the Colorado Geological Survey to better understand the geology and critical mineral resources in the area.  Several alkaline intrusive complexes are of particular interest because they are known to be enriched in thorium, rare earth elements (REE), and other critical minerals.\n",
      "\n",
      "Magnetic surveys measure subtle variations in the Earth’s magnetic field and are sensitive to differences in the magnetic properties of rocks from ground level to many kilometers below.  Radiometric (or gamma-ray) surveys measure naturally occurring low-level radiation and are sensitive to the presence of rocks near the surface that are enriched in uranium, thorium, or potassium.  Together, the two types of survey data provide valuable information for constructing geologic maps that researchers can use to better understand the mineral resources in the region.\n"
     ]
    }
   ],
   "source": [
    "#Enter Data Release Purpose between single quotes below\n",
    "\n",
    "#########################################################################################################################\n",
    "purpose = 'These data were collected as part of the Earth Mapping Resource Initiative (Earth MRI) program of the U.S. Geological Survey (USGS) in collaboration with the Colorado Geological Survey to better understand the geology and critical mineral resources in the area.  Several alkaline intrusive complexes are of particular interest because they are known to be enriched in thorium, rare earth elements (REE), and other critical minerals.\\n\\nMagnetic surveys measure subtle variations in the Earth’s magnetic field and are sensitive to differences in the magnetic properties of rocks from ground level to many kilometers below.  Radiometric (or gamma-ray) surveys measure naturally occurring low-level radiation and are sensitive to the presence of rocks near the surface that are enriched in uranium, thorium, or potassium.  Together, the two types of survey data provide valuable information for constructing geologic maps that researchers can use to better understand the mineral resources in the region.'\n",
    "#########################################################################################################################\n",
    "print (purpose)"
   ]
  },
  {
   "cell_type": "code",
   "execution_count": 47,
   "metadata": {},
   "outputs": [
    {
     "name": "stdout",
     "output_type": "stream",
     "text": [
      "Username:  pbrown@usgs.gov\n",
      "········\n"
     ]
    },
    {
     "data": {
      "text/plain": [
       "{'fullDisplayName': 'Philip J Brown II [pbrown@usgs.gov]',\n",
       " 'isLoggedIn': True,\n",
       " 'jossoSessionId': 'EC919854A964C61E45C83BB283789CC3',\n",
       " 'displayName': 'Philip J Brown II',\n",
       " 'email': 'pbrown@usgs.gov',\n",
       " 'username': 'pbrown@usgs.gov'}"
      ]
     },
     "execution_count": 47,
     "metadata": {},
     "output_type": "execute_result"
    }
   ],
   "source": [
    "#login to ScienceBase\n",
    "sb = pysb.SbSession()\n",
    "username = input(\"Username:  \")\n",
    "sb.loginc(str(username))\n",
    "#Check to see if login is successful\n",
    "sb.is_logged_in()\n",
    "#Get the ScienceBase Login session info\n",
    "sb.get_session_info()"
   ]
  },
  {
   "cell_type": "code",
   "execution_count": 49,
   "metadata": {},
   "outputs": [
    {
     "name": "stdout",
     "output_type": "stream",
     "text": [
      "{\n",
      "  \"browseCategories\": [\n",
      "    \"Data\"\n",
      "  ],\n",
      "  \"browseTypes\": [\n",
      "    \"Raster\",\n",
      "    \"GeoTIFF\",\n",
      "    \"Downloadable\",\n",
      "    \"Map Service\"\n",
      "  ],\n",
      "  \"distributionLinks\": [\n",
      "    {\n",
      "      \"files\": \"\",\n",
      "      \"name\": \"\",\n",
      "      \"rel\": \"alternate\",\n",
      "      \"title\": \"KML Service\",\n",
      "      \"type\": \"kml\",\n",
      "      \"typeLabel\": \"KML Download\",\n",
      "      \"uri\": \"https://www.sciencebase.gov/catalogMaps/mapping/ows/62842420d34e3bef0c9a477f?mode=download&request=kml&service=wms&layers=RTPMag_AirborneMagneticAndRadiometricSurveyWetMountainsSouthCentralColorado2021\"\n",
      "    },\n",
      "    {\n",
      "      \"files\": \"\",\n",
      "      \"name\": \"\",\n",
      "      \"rel\": \"alternate\",\n",
      "      \"title\": \"ScienceBase WMS Service\",\n",
      "      \"type\": \"serviceCapabilitiesUrl\",\n",
      "      \"typeLabel\": \"OGC Service Capabilities URL\",\n",
      "      \"uri\": \"https://www.sciencebase.gov/catalogMaps/mapping/ows/62842420d34e3bef0c9a477f?service=wms&request=getcapabilities&version=1.3.0\"\n",
      "    },\n",
      "    {\n",
      "      \"files\": \"\",\n",
      "      \"name\": \"\",\n",
      "      \"rel\": \"alternate\",\n",
      "      \"title\": \"ScienceBase WCS Service\",\n",
      "      \"type\": \"serviceCapabilitiesUrl\",\n",
      "      \"typeLabel\": \"OGC Service Capabilities URL\",\n",
      "      \"uri\": \"https://www.sciencebase.gov/catalogMaps/mapping/ows/62842420d34e3bef0c9a477f?service=wcs&request=getcapabilities&version=1.0.0\"\n",
      "    },\n",
      "    {\n",
      "      \"files\": [\n",
      "        {\n",
      "          \"contentType\": \"image/tiff\",\n",
      "          \"name\": \"RTPMag_AirborneMagneticAndRadiometricSurveyWetMountainsSouthCentralColorado2021/RTPMag_AirborneMagneticAndRadiometricSurveyWetMountainsSouthCentralColorado2021.tif.ovr\",\n",
      "          \"size\": 2114876,\n",
      "          \"title\": \"\"\n",
      "        },\n",
      "        {\n",
      "          \"contentType\": \"image/geotiff\",\n",
      "          \"name\": \"RTPMag_AirborneMagneticAndRadiometricSurveyWetMountainsSouthCentralColorado2021/RTPMag_AirborneMagneticAndRadiometricSurveyWetMountainsSouthCentralColorado2021.tif\",\n",
      "          \"size\": 4870647,\n",
      "          \"title\": \"\"\n",
      "        },\n",
      "        {\n",
      "          \"contentType\": \"text/plain\",\n",
      "          \"name\": \"RTPMag_AirborneMagneticAndRadiometricSurveyWetMountainsSouthCentralColorado2021/RTPMag_AirborneMagneticAndRadiometricSurveyWetMountainsSouthCentralColorado2021.tfw\",\n",
      "          \"size\": 83,\n",
      "          \"title\": \"\"\n",
      "        },\n",
      "        {\n",
      "          \"contentType\": \"text/csv\",\n",
      "          \"name\": \"LineData_AirborneMagneticAndRadiometricSurveyWetMountainsSouthCentralColorado2021.csv\",\n",
      "          \"size\": 1203549506,\n",
      "          \"title\": null\n",
      "        }\n",
      "      ],\n",
      "      \"name\": \"AirborneMagneti.zip\",\n",
      "      \"rel\": \"alternate\",\n",
      "      \"title\": \"Download Attached Files\",\n",
      "      \"type\": \"downloadLink\",\n",
      "      \"typeLabel\": \"Download Link\",\n",
      "      \"uri\": \"https://www.sciencebase.gov/catalog/file/get/62842420d34e3bef0c9a477f\"\n",
      "    }\n",
      "  ],\n",
      "  \"facets\": [\n",
      "    {\n",
      "      \"boundingBox\": {\n",
      "        \"maxX\": -105.11688499491419,\n",
      "        \"maxY\": 38.588196127698026,\n",
      "        \"minX\": -105.63772245847038,\n",
      "        \"minY\": 37.955315321396625\n",
      "      },\n",
      "      \"className\": \"gov.sciencebase.catalog.item.facet.RasterFacet\",\n",
      "      \"facetName\": \"Raster\",\n",
      "      \"files\": [\n",
      "        {\n",
      "          \"bucket\": null,\n",
      "          \"checksum\": {\n",
      "            \"type\": \"MD5\",\n",
      "            \"value\": \"2ca5249de23f9ec48062c978043a3d4f\"\n",
      "          },\n",
      "          \"contentEncoding\": null,\n",
      "          \"contentType\": \"image/tiff\",\n",
      "          \"cuid\": null,\n",
      "          \"dateUploaded\": \"2022-05-25T03:50:41Z\",\n",
      "          \"downloadUri\": \"https://www.sciencebase.gov/catalog/file/get/62842420d34e3bef0c9a477f?f=__disk__88%2F04%2F27%2F880427415d097624a38f3c5ddc7003d62df6ed53\",\n",
      "          \"imageHeight\": null,\n",
      "          \"imageWidth\": null,\n",
      "          \"key\": null,\n",
      "          \"movedToS3\": null,\n",
      "          \"name\": \"RTPMag_AirborneMagneticAndRadiometricSurveyWetMountainsSouthCentralColorado2021.tif.ovr\",\n",
      "          \"node\": null,\n",
      "          \"originalMetadata\": false,\n",
      "          \"pathOnDisk\": \"__disk__88/04/27/880427415d097624a38f3c5ddc7003d62df6ed53\",\n",
      "          \"processToken\": null,\n",
      "          \"processed\": false,\n",
      "          \"published\": null,\n",
      "          \"s3Object\": null,\n",
      "          \"size\": 2114876,\n",
      "          \"title\": \"\",\n",
      "          \"uploadedBy\": \"pbrown@usgs.gov\",\n",
      "          \"url\": \"https://www.sciencebase.gov/catalog/file/get/62842420d34e3bef0c9a477f?f=__disk__88%2F04%2F27%2F880427415d097624a38f3c5ddc7003d62df6ed53\",\n",
      "          \"useForPreview\": false\n",
      "        },\n",
      "        {\n",
      "          \"bucket\": null,\n",
      "          \"checksum\": {\n",
      "            \"type\": \"MD5\",\n",
      "            \"value\": \"eb8a2b6fe48390a1475847204c91ea77\"\n",
      "          },\n",
      "          \"contentEncoding\": null,\n",
      "          \"contentType\": \"image/geotiff\",\n",
      "          \"cuid\": null,\n",
      "          \"dateUploaded\": \"2022-05-25T03:50:45Z\",\n",
      "          \"downloadUri\": \"https://www.sciencebase.gov/catalog/file/get/62842420d34e3bef0c9a477f?f=__disk__39%2Fc6%2F13%2F39c6136a10325f94a94eb523eaf78f3d3d8722ab\",\n",
      "          \"imageHeight\": null,\n",
      "          \"imageWidth\": null,\n",
      "          \"key\": null,\n",
      "          \"movedToS3\": null,\n",
      "          \"name\": \"RTPMag_AirborneMagneticAndRadiometricSurveyWetMountainsSouthCentralColorado2021.tif\",\n",
      "          \"node\": null,\n",
      "          \"originalMetadata\": false,\n",
      "          \"pathOnDisk\": \"__disk__39/c6/13/39c6136a10325f94a94eb523eaf78f3d3d8722ab\",\n",
      "          \"processToken\": null,\n",
      "          \"processed\": false,\n",
      "          \"published\": null,\n",
      "          \"s3Object\": null,\n",
      "          \"size\": 4870647,\n",
      "          \"title\": \"\",\n",
      "          \"uploadedBy\": \"pbrown@usgs.gov\",\n",
      "          \"url\": \"https://www.sciencebase.gov/catalog/file/get/62842420d34e3bef0c9a477f?f=__disk__39%2Fc6%2F13%2F39c6136a10325f94a94eb523eaf78f3d3d8722ab\",\n",
      "          \"useForPreview\": false\n",
      "        },\n",
      "        {\n",
      "          \"bucket\": null,\n",
      "          \"checksum\": {\n",
      "            \"type\": \"MD5\",\n",
      "            \"value\": \"826a96284195a124f4f15cab0c350b79\"\n",
      "          },\n",
      "          \"contentEncoding\": null,\n",
      "          \"contentType\": \"text/plain\",\n",
      "          \"cuid\": null,\n",
      "          \"dateUploaded\": \"2022-05-25T03:50:39Z\",\n",
      "          \"downloadUri\": \"https://www.sciencebase.gov/catalog/file/get/62842420d34e3bef0c9a477f?f=__disk__ed%2F76%2F1a%2Fed761a93a1f4c030db456982f96d102a02334888\",\n",
      "          \"imageHeight\": null,\n",
      "          \"imageWidth\": null,\n",
      "          \"key\": null,\n",
      "          \"movedToS3\": null,\n",
      "          \"name\": \"RTPMag_AirborneMagneticAndRadiometricSurveyWetMountainsSouthCentralColorado2021.tfw\",\n",
      "          \"node\": null,\n",
      "          \"originalMetadata\": false,\n",
      "          \"pathOnDisk\": \"__disk__ed/76/1a/ed761a93a1f4c030db456982f96d102a02334888\",\n",
      "          \"processToken\": null,\n",
      "          \"processed\": false,\n",
      "          \"published\": null,\n",
      "          \"s3Object\": null,\n",
      "          \"size\": 83,\n",
      "          \"title\": \"\",\n",
      "          \"uploadedBy\": \"pbrown@usgs.gov\",\n",
      "          \"url\": \"https://www.sciencebase.gov/catalog/file/get/62842420d34e3bef0c9a477f?f=__disk__ed%2F76%2F1a%2Fed761a93a1f4c030db456982f96d102a02334888\",\n",
      "          \"useForPreview\": false,\n",
      "          \"viewUri\": \"https://www.sciencebase.gov/catalog/file/get/62842420d34e3bef0c9a477f?f=__disk__ed%2F76%2F1a%2Fed761a93a1f4c030db456982f96d102a02334888&allowOpen=true\"\n",
      "        }\n",
      "      ],\n",
      "      \"name\": \"RTPMag_AirborneMagneticAndRadiometricSurveyWetMountainsSouthCentralColorado2021\",\n",
      "      \"nativeCrs\": \"EPSG:4326\",\n",
      "      \"rasterType\": \"GeoTIFF\"\n",
      "    }\n",
      "  ],\n",
      "  \"files\": [\n",
      "    {\n",
      "      \"bucket\": \"prod-is-usgs-sb-prod-content\",\n",
      "      \"checksum\": null,\n",
      "      \"contentEncoding\": null,\n",
      "      \"contentType\": \"text/csv\",\n",
      "      \"cuid\": \"cl3kj2mnf05un10o867fr4vek\",\n",
      "      \"dateUploaded\": \"2022-05-24T19:07:12Z\",\n",
      "      \"downloadUri\": \"https://sciencebase.usgs.gov/manager/download/cl3kj2mnf05un10o867fr4vek\",\n",
      "      \"imageHeight\": null,\n",
      "      \"imageWidth\": null,\n",
      "      \"key\": \"62842420d34e3bef0c9a477f/LineData_AirborneMagneticAndRadiometricSurveyWetMountainsSouthCentralColorado2021.csv\",\n",
      "      \"movedToS3\": false,\n",
      "      \"name\": \"LineData_AirborneMagneticAndRadiometricSurveyWetMountainsSouthCentralColorado2021.csv\",\n",
      "      \"node\": {\n",
      "        \"managerUrl\": \"https://sciencebase.usgs.gov/manager\"\n",
      "      },\n",
      "      \"originalMetadata\": false,\n",
      "      \"pathOnDisk\": \"__s3__\",\n",
      "      \"processToken\": null,\n",
      "      \"processed\": false,\n",
      "      \"published\": null,\n",
      "      \"s3DownloadRequestPageUri\": \"https://www.sciencebase.gov/catalog/item/requestDownload/62842420d34e3bef0c9a477f?filePath=__s3__\",\n",
      "      \"s3Object\": null,\n",
      "      \"size\": 1203549506,\n",
      "      \"title\": null,\n",
      "      \"uploadedBy\": \"pbrown@usgs.gov\",\n",
      "      \"url\": \"https://sciencebase.usgs.gov/manager/item/62842420d34e3bef0c9a477f/file/cl3kj2mnf05un10o867fr4vek\",\n",
      "      \"useForPreview\": false\n",
      "    }\n",
      "  ],\n",
      "  \"hasChildren\": false,\n",
      "  \"id\": \"62842420d34e3bef0c9a477f\",\n",
      "  \"link\": {\n",
      "    \"rel\": \"self\",\n",
      "    \"url\": \"https://www.sciencebase.gov/catalog/item/62842420d34e3bef0c9a477f\"\n",
      "  },\n",
      "  \"locked\": false,\n",
      "  \"parentId\": \"623219c9d34ec9f19eeb418b\",\n",
      "  \"permissions\": {\n",
      "    \"read\": {\n",
      "      \"acl\": [\n",
      "        \"USER:abern@usgs.gov\",\n",
      "        \"USER:csanjuan@usgs.gov\",\n",
      "        \"USER:dconnell@usgs.gov\",\n",
      "        \"USER:eboardman-larson@usgs.gov\",\n",
      "        \"USER:mgoldman@usgs.gov\",\n",
      "        \"USER:mmontour@usgs.gov\",\n",
      "        \"USER:pbrown@usgs.gov\",\n",
      "        \"USER:sgiles@usgs.gov\",\n",
      "        \"ROLE:BAO\",\n",
      "        \"USER:pbedrosian@usgs.gov\"\n",
      "      ],\n",
      "      \"inherited\": true,\n",
      "      \"inheritsFromId\": \"623219c9d34ec9f19eeb418b\"\n",
      "    },\n",
      "    \"write\": {\n",
      "      \"acl\": [\n",
      "        \"ROLE:ScienceBase_Data_Release_Team\",\n",
      "        \"USER:abern@usgs.gov\",\n",
      "        \"USER:csanjuan@usgs.gov\",\n",
      "        \"USER:dconnell@usgs.gov\",\n",
      "        \"USER:eboardman-larson@usgs.gov\",\n",
      "        \"USER:ericanderson@usgs.gov\",\n",
      "        \"USER:mgoldman@usgs.gov\",\n",
      "        \"USER:mmontour@usgs.gov\",\n",
      "        \"USER:pbrown@usgs.gov\",\n",
      "        \"USER:sgiles@usgs.gov\",\n",
      "        \"USER:tien@usgs.gov\"\n",
      "      ],\n",
      "      \"inherited\": true,\n",
      "      \"inheritsFromId\": \"623219c9d34ec9f19eeb418b\"\n",
      "    }\n",
      "  },\n",
      "  \"provenance\": {\n",
      "    \"createdBy\": \"pbrown@usgs.gov\",\n",
      "    \"dataSource\": \"Input directly\",\n",
      "    \"dateCreated\": \"2022-05-17T22:39:28Z\",\n",
      "    \"lastUpdated\": \"2022-05-25T03:50:50Z\",\n",
      "    \"lastUpdatedBy\": \"pbrown@usgs.gov\"\n",
      "  },\n",
      "  \"relatedItems\": {\n",
      "    \"link\": {\n",
      "      \"rel\": \"related\",\n",
      "      \"url\": \"https://www.sciencebase.gov/catalog/itemLinks?itemId=62842420d34e3bef0c9a477f\"\n",
      "    }\n",
      "  },\n",
      "  \"systemTypes\": [\n",
      "    \"Downloadable\",\n",
      "    \"Mappable\"\n",
      "  ],\n",
      "  \"title\": \"Airborne Magnetic Survey Wet Mountains South Central Colorado 2021\"\n",
      "}\n"
     ]
    }
   ],
   "source": [
    "# Now lets get the item - be sure to use the correct catalog number!!!\n",
    "catNum = '62842420d34e3bef0c9a477f'\n",
    "item_json = sb.get_item(catNum)\n",
    "#print (\"Public Item: \\n\\t\" + str(item_json))\n",
    "print(json.dumps(item_json, indent=2, sort_keys=True))"
   ]
  },
  {
   "cell_type": "code",
   "execution_count": 50,
   "metadata": {},
   "outputs": [
    {
     "name": "stdout",
     "output_type": "stream",
     "text": [
      "AirborneMagneti.zip\n",
      "AirborneMagneti.zip\n",
      "AirborneMagneti.zip\n",
      "AirborneMagneti.zip\n",
      "RTPMag_AirborneMagneticAndRadiometricSurveyWetMountainsSouthCentralColorado2021\n",
      "RTPMag_AirborneMagneticAndRadiometricSurveyWetMountainsSouthCentralColorado2021\n",
      "RTPMag_AirborneMagneticAndRadiometricSurveyWetMountainsSouthCentralColorado2021\n"
     ]
    }
   ],
   "source": [
    "#Get files for file listing below\n",
    "#Get the names of the file items in ScienceBase:\n",
    "#print(item_json['files'])\n",
    "\n",
    "for item in item_json['distributionLinks']:\n",
    " for files in item['files']:\n",
    "  print (item['name'])\n",
    "\n",
    "for item in item_json['facets']:\n",
    " for files in item['files']:\n",
    "  print (item['name'])"
   ]
  },
  {
   "cell_type": "code",
   "execution_count": 51,
   "metadata": {
    "scrolled": true
   },
   "outputs": [
    {
     "name": "stdout",
     "output_type": "stream",
     "text": [
      "References cited: \n",
      "\n",
      "Day, W.D., 2019, The Earth MappingResources Initiative (Earth MRI): Mapping the nations critical mineral resources: U.S. Geological Survey Fact Sheet 2019-3007, https://doi.org/10.3133/fs20193007. \n",
      "\n",
      "Files that are available in this publication include flight line data for the magnetic survey in an ascii .csv file, flight line data for the radiometric survey in an ascii .csv file, geoTIFF images of the total magnetic intensity and radiometric total count, potassium, thorium, and uranium values, grids of these data, and a report describing the survey parameters, field operations, quality control and data reduction procedures. A zip file containing the contractor's deliverable products is also included.  These files are provided as recieved from the contractor. Binary files in this package are readable using the free software \"Geosoft Viewer\"\" or commercial software \"Oasis montaj\".\n",
      "\n",
      "This metadata describes the following files:\n",
      "\tLineData_AirborneMagneticAndRadiometricSurveyWetMountainsSouthCentralColorado2021.csv\n",
      "\tRTPMag_AirborneMagneticAndRadiometricSurveyWetMountainsSouthCentralColorado2021.tif\n"
     ]
    }
   ],
   "source": [
    "#Enter Data Release Supplementary Information between single quotes below\n",
    "\n",
    "#########################################################################################################################\n",
    "supplinf = 'References cited: \\n'\\\n",
    "+ '\\nDay, W.D., 2019, The Earth MappingResources Initiative (Earth MRI): Mapping the nations critical mineral resources: U.S. Geological Survey Fact Sheet 2019-3007, https://doi.org/10.3133/fs20193007. \\n'\\\n",
    "+ '\\nFiles that are available in this publication include flight line data for the magnetic survey in an ascii .csv file, flight line data for the radiometric survey in an ascii .csv file, geoTIFF images of the total magnetic intensity and radiometric total count, potassium, thorium, and uranium values, grids of these data, and a report describing the survey parameters, field operations, quality control and data reduction procedures. A zip file containing the contractor\\'s deliverable products is also included.  These files are provided as recieved from the contractor. Binary files in this package are readable using the free software \\\"Geosoft Viewer\\\"\" or commercial software \\\"Oasis montaj\\\".' \\\n",
    "+ '\\n\\nThis metadata describes the following files:'\\\n",
    "+ '\\n\\tLineData_AirborneMagneticAndRadiometricSurveyWetMountainsSouthCentralColorado2021.csv'\\\n",
    "+ '\\n\\tRTPMag_AirborneMagneticAndRadiometricSurveyWetMountainsSouthCentralColorado2021.tif'\\\n",
    "#########################################################################################################################\n",
    "print (supplinf)\n"
   ]
  },
  {
   "cell_type": "code",
   "execution_count": 52,
   "metadata": {},
   "outputs": [
    {
     "name": "stdout",
     "output_type": "stream",
     "text": [
      "20210615\n"
     ]
    }
   ],
   "source": [
    "#Enter Data Release Begining Date between single quotes below\n",
    "\n",
    "#########################################################################################################################\n",
    "begdate = '20210615'\n",
    "#########################################################################################################################\n",
    "print (begdate)"
   ]
  },
  {
   "cell_type": "code",
   "execution_count": 53,
   "metadata": {},
   "outputs": [
    {
     "name": "stdout",
     "output_type": "stream",
     "text": [
      "20210727\n"
     ]
    }
   ],
   "source": [
    "#Enter Data Release Begining Date between single quotes below\n",
    "\n",
    "#########################################################################################################################\n",
    "enddate = '20210727'\n",
    "#########################################################################################################################\n",
    "print (enddate)"
   ]
  },
  {
   "cell_type": "code",
   "execution_count": 54,
   "metadata": {},
   "outputs": [
    {
     "name": "stdout",
     "output_type": "stream",
     "text": [
      "None. Please see 'Distribution Info' for details.\n"
     ]
    }
   ],
   "source": [
    "#Enter Data Release Access Constraints between single quotes below\n",
    "\n",
    "#########################################################################################################################\n",
    "accconst = 'None. Please see \\'Distribution Info\\' for details.'\n",
    "#########################################################################################################################\n",
    "print (accconst)"
   ]
  },
  {
   "cell_type": "code",
   "execution_count": 55,
   "metadata": {},
   "outputs": [
    {
     "name": "stdout",
     "output_type": "stream",
     "text": [
      "Any use of trade, firm, or product names is for descriptive purposes only and does not imply endorsement by the U.S. Government.  Although these data have been processed successfully on a computer system at the U.S. Geological Survey (USGS), no warranty expressed or implied is made regarding the display or utility of the data for other purposes, nor on all computer systems, nor shall the act of distribution constitute any such warranty. The USGS or the U.S. Government shall not be held liable for improper or incorrect use of the data described and/or contained herein.\n"
     ]
    }
   ],
   "source": [
    "#Enter Data Release Use Constraints between single quotes below\n",
    "\n",
    "#########################################################################################################################\n",
    "useconst = 'Any use of trade, firm, or product names is for descriptive purposes only and does not imply endorsement by the U.S. Government.  Although these data have been processed successfully on a computer system at the U.S. Geological Survey (USGS), no warranty expressed or implied is made regarding the display or utility of the data for other purposes, nor on all computer systems, nor shall the act of distribution constitute any such warranty. The USGS or the U.S. Government shall not be held liable for improper or incorrect use of the data described and/or contained herein.'\n",
    "#########################################################################################################################\n",
    "print (useconst)"
   ]
  },
  {
   "cell_type": "code",
   "execution_count": 56,
   "metadata": {},
   "outputs": [
    {
     "name": "stdout",
     "output_type": "stream",
     "text": [
      "Philip J. Brown\n"
     ]
    }
   ],
   "source": [
    "#Enter Data Release Data Contact between single quotes below\n",
    "\n",
    "#########################################################################################################################\n",
    "cntperDataContact = 'Philip J. Brown'\n",
    "#########################################################################################################################\n",
    "print (cntperDataContact)"
   ]
  },
  {
   "cell_type": "code",
   "execution_count": 57,
   "metadata": {},
   "outputs": [
    {
     "name": "stdout",
     "output_type": "stream",
     "text": [
      "Geophysicist\n"
     ]
    }
   ],
   "source": [
    "#Enter Data Release Data Contact's Position between single quotes below\n",
    "\n",
    "#########################################################################################################################\n",
    "cntposDataContact = 'Geophysicist'\n",
    "#########################################################################################################################\n",
    "print (cntposDataContact)"
   ]
  },
  {
   "cell_type": "code",
   "execution_count": 58,
   "metadata": {},
   "outputs": [
    {
     "name": "stdout",
     "output_type": "stream",
     "text": [
      "303-236-1310\n"
     ]
    }
   ],
   "source": [
    "#Enter Data Release Data Contact's Phone Number between single quotes below\n",
    "\n",
    "#########################################################################################################################\n",
    "cntvoiceDataContact = '303-236-1310'\n",
    "#########################################################################################################################\n",
    "print (cntvoiceDataContact)"
   ]
  },
  {
   "cell_type": "code",
   "execution_count": 59,
   "metadata": {},
   "outputs": [
    {
     "name": "stdout",
     "output_type": "stream",
     "text": [
      "pjbrown@usgs.gov\n"
     ]
    }
   ],
   "source": [
    "#Enter Data Release Data Contact's email between single quotes below\n",
    "\n",
    "#########################################################################################################################\n",
    "cntemailDataContact = 'pjbrown@usgs.gov'\n",
    "#########################################################################################################################\n",
    "print (cntemailDataContact)"
   ]
  },
  {
   "cell_type": "code",
   "execution_count": null,
   "metadata": {},
   "outputs": [],
   "source": [
    "#Add spdoinfo\n",
    "\n",
    "indspref = 'Upper Peninsula Area, MI'\n",
    "direct = 'Point'\n",
    "<spdoinfo>\n",
    "\t\t<indspref>Upper Peninsula Area, MI</indspref>\n",
    "\t\t<direct>Point</direct>\n",
    "\t</spdoinfo>"
   ]
  },
  {
   "cell_type": "code",
   "execution_count": 60,
   "metadata": {},
   "outputs": [
    {
     "name": "stdout",
     "output_type": "stream",
     "text": [
      "This survey and release of the dataset was funded by the Earth Mapping Resources Initiative (Earth MRI).\n"
     ]
    }
   ],
   "source": [
    "#Enter Data Release Data Contact's Phone Number between single quotes below\n",
    "\n",
    "#########################################################################################################################\n",
    "datacred = 'This survey and release of the dataset was funded by the Earth Mapping Resources Initiative (Earth MRI).'\n",
    "#########################################################################################################################\n",
    "print (datacred)"
   ]
  },
  {
   "cell_type": "code",
   "execution_count": 61,
   "metadata": {},
   "outputs": [
    {
     "name": "stdout",
     "output_type": "stream",
     "text": [
      "Daily quality control of magnetic data was performed by the contractor. Further quality control measures occurred post flight by the contractor and USGS scientist-in-charge before approval and acceptance of the final data. The data have been peer reviewed and compared with related ancillary data.\n"
     ]
    }
   ],
   "source": [
    "#Enter Data Release attraccr between single quotes below\n",
    "\n",
    "#########################################################################################################################\n",
    "attraccr = 'Daily quality control of magnetic data was performed by the contractor. Further quality control measures occurred post flight by the contractor and USGS scientist-in-charge before approval and acceptance of the final data. The data have been peer reviewed and compared with related ancillary data.'\n",
    "#########################################################################################################################\n",
    "print (attraccr)"
   ]
  },
  {
   "cell_type": "code",
   "execution_count": 62,
   "metadata": {},
   "outputs": [
    {
     "name": "stdout",
     "output_type": "stream",
     "text": [
      "Data were visually inspected for reasonableness and spatial consistency.\n"
     ]
    }
   ],
   "source": [
    "#Enter Data Release logic between single quotes below\n",
    "\n",
    "#########################################################################################################################\n",
    "logic = 'Data were visually inspected for reasonableness and spatial consistency.'\n",
    "#########################################################################################################################\n",
    "print (logic)"
   ]
  },
  {
   "cell_type": "code",
   "execution_count": 63,
   "metadata": {},
   "outputs": [
    {
     "name": "stdout",
     "output_type": "stream",
     "text": [
      "Data set is considered complete for the information presented, as described in the abstract. Users are advised to read the rest of the metadata record carefully for additional details.\n"
     ]
    }
   ],
   "source": [
    "#Enter Data Release complete between single quotes below\n",
    "\n",
    "#########################################################################################################################\n",
    "complete = 'Data set is considered complete for the information presented, as described in the abstract. Users are advised to read the rest of the metadata record carefully for additional details.'\n",
    "#########################################################################################################################\n",
    "print (complete)"
   ]
  },
  {
   "cell_type": "code",
   "execution_count": 64,
   "metadata": {},
   "outputs": [
    {
     "name": "stdout",
     "output_type": "stream",
     "text": [
      "Field quality control and assurance procedures were undertaken by the Eon Geosciences Inc. field crew and are described in the contractors report included with this data release.\n"
     ]
    }
   ],
   "source": [
    "#Enter Data Release horizpar between single quotes below\n",
    "\n",
    "#########################################################################################################################\n",
    "horizpar = 'Field quality control and assurance procedures were undertaken by the Eon Geosciences Inc. field crew and are described in the contractors report included with this data release.'\n",
    "#########################################################################################################################\n",
    "print (horizpar)"
   ]
  },
  {
   "cell_type": "code",
   "execution_count": 65,
   "metadata": {},
   "outputs": [
    {
     "name": "stdout",
     "output_type": "stream",
     "text": [
      "Field quality control and assurance procedures were undertaken by the Aeoroquest Limited. field crew and are described in the contractors report included with this data release.\n"
     ]
    }
   ],
   "source": [
    "#Enter Data Release vertaccr between single quotes below\n",
    "\n",
    "#########################################################################################################################\n",
    "vertaccr = 'Field quality control and assurance procedures were undertaken by the Aeoroquest Limited. field crew and are described in the contractors report included with this data release.'\n",
    "#########################################################################################################################\n",
    "print (vertaccr)"
   ]
  },
  {
   "cell_type": "code",
   "execution_count": 66,
   "metadata": {},
   "outputs": [
    {
     "name": "stdout",
     "output_type": "stream",
     "text": [
      "0.000001\n"
     ]
    }
   ],
   "source": [
    "#Enter Data Release latres between single quotes below\n",
    "\n",
    "#########################################################################################################################\n",
    "latres = '0.000001'\n",
    "#########################################################################################################################\n",
    "print (latres)"
   ]
  },
  {
   "cell_type": "code",
   "execution_count": 67,
   "metadata": {},
   "outputs": [
    {
     "name": "stdout",
     "output_type": "stream",
     "text": [
      "0.000001\n"
     ]
    }
   ],
   "source": [
    "#Enter Data Release Data longres between single quotes below\n",
    "\n",
    "#########################################################################################################################\n",
    "longres = '0.000001'\n",
    "#########################################################################################################################\n",
    "print (longres)"
   ]
  },
  {
   "cell_type": "code",
   "execution_count": 68,
   "metadata": {},
   "outputs": [
    {
     "name": "stdout",
     "output_type": "stream",
     "text": [
      "WGS_1984\n"
     ]
    }
   ],
   "source": [
    "#Enter Data Release horizdn between single quotes below\n",
    "\n",
    "#########################################################################################################################\n",
    "horizdn = 'WGS_1984'\n",
    "#########################################################################################################################\n",
    "print (horizdn)\n"
   ]
  },
  {
   "cell_type": "code",
   "execution_count": 69,
   "metadata": {},
   "outputs": [
    {
     "name": "stdout",
     "output_type": "stream",
     "text": [
      "WGS_1984\n"
     ]
    }
   ],
   "source": [
    "#Enter Data Release ellips between single quotes below\n",
    "\n",
    "#########################################################################################################################\n",
    "ellips = 'WGS_1984'\n",
    "#########################################################################################################################\n",
    "print (ellips)"
   ]
  },
  {
   "cell_type": "code",
   "execution_count": 70,
   "metadata": {},
   "outputs": [
    {
     "name": "stdout",
     "output_type": "stream",
     "text": [
      "6378206.4\n"
     ]
    }
   ],
   "source": [
    "#Enter Data Release semiaxis between single quotes below\n",
    "\n",
    "#########################################################################################################################\n",
    "semiaxis = '6378206.4'\n",
    "#########################################################################################################################\n",
    "print (semiaxis)\n"
   ]
  },
  {
   "cell_type": "code",
   "execution_count": 71,
   "metadata": {},
   "outputs": [
    {
     "name": "stdout",
     "output_type": "stream",
     "text": [
      "294.9786982\n"
     ]
    }
   ],
   "source": [
    "#Enter Data Release denflat between single quotes below\n",
    "\n",
    "#########################################################################################################################\n",
    "denflat = '294.9786982'\n",
    "#########################################################################################################################\n",
    "print (denflat)"
   ]
  },
  {
   "cell_type": "code",
   "execution_count": 72,
   "metadata": {},
   "outputs": [
    {
     "name": "stdout",
     "output_type": "stream",
     "text": [
      "Unless otherwise stated, all data, metadata and related materials are considered to satisfy the quality standards relative to the purpose for which the data were collected. Although these data and associated metadata have been reviewed for accuracy and completeness and approved for release by the U.S. Geological Survey (USGS), no warranty expressed or implied is made regarding the display or utility of the data on any other system or for general or scientific purposes, nor shall the act of distribution constitute any such warranty.\n"
     ]
    }
   ],
   "source": [
    "#Enter Data Release Data Contact's Phone Number between single quotes below\n",
    "\n",
    "#########################################################################################################################\n",
    "distliab = 'Unless otherwise stated, all data, metadata and related materials are considered to satisfy the quality standards relative to the purpose for which the data were collected. Although these data and associated metadata have been reviewed for accuracy and completeness and approved for release by the U.S. Geological Survey (USGS), no warranty expressed or implied is made regarding the display or utility of the data on any other system or for general or scientific purposes, nor shall the act of distribution constitute any such warranty.'\n",
    "#########################################################################################################################\n",
    "print (distliab)"
   ]
  },
  {
   "cell_type": "code",
   "execution_count": 73,
   "metadata": {},
   "outputs": [
    {
     "name": "stdout",
     "output_type": "stream",
     "text": [
      "20220607\n"
     ]
    }
   ],
   "source": [
    "#Enter Data Release metadata creation date between single quotes below\n",
    "\n",
    "#########################################################################################################################\n",
    "metd = '20220607'\n",
    "#########################################################################################################################\n",
    "print (metd)"
   ]
  },
  {
   "cell_type": "code",
   "execution_count": 74,
   "metadata": {},
   "outputs": [
    {
     "name": "stdout",
     "output_type": "stream",
     "text": [
      "Philip Brown\n"
     ]
    }
   ],
   "source": [
    "#Enter Data Release cntperMetaInfo between single quotes below\n",
    "\n",
    "#########################################################################################################################\n",
    "cntperMetaInfo = 'Philip Brown'\n",
    "#########################################################################################################################\n",
    "print (cntperMetaInfo)"
   ]
  },
  {
   "cell_type": "code",
   "execution_count": 75,
   "metadata": {},
   "outputs": [
    {
     "name": "stdout",
     "output_type": "stream",
     "text": [
      "Geophysicist\n"
     ]
    }
   ],
   "source": [
    "#Enter Data Release cntposMetaInfo between single quotes below\n",
    "\n",
    "#########################################################################################################################\n",
    "cntposMetaInfo = 'Geophysicist'\n",
    "#########################################################################################################################\n",
    "print (cntposMetaInfo)"
   ]
  },
  {
   "cell_type": "code",
   "execution_count": 76,
   "metadata": {},
   "outputs": [
    {
     "name": "stdout",
     "output_type": "stream",
     "text": [
      "303-236-1310\n"
     ]
    }
   ],
   "source": [
    "#Enter Data Release cntvoiceMetaInfo between single quotes below\n",
    "\n",
    "#########################################################################################################################\n",
    "cntvoiceMetaInfo = '303-236-1310'\n",
    "#########################################################################################################################\n",
    "print (cntvoiceMetaInfo)"
   ]
  },
  {
   "cell_type": "code",
   "execution_count": 77,
   "metadata": {},
   "outputs": [
    {
     "name": "stdout",
     "output_type": "stream",
     "text": [
      "pbrown@usgs.gov\n"
     ]
    }
   ],
   "source": [
    "#Enter Data Release cntemailMetaInfo between single quotes below\n",
    "\n",
    "#########################################################################################################################\n",
    "cntemailMetaInfo = 'pbrown@usgs.gov'\n",
    "#########################################################################################################################\n",
    "print (cntemailMetaInfo)"
   ]
  },
  {
   "cell_type": "code",
   "execution_count": 78,
   "metadata": {},
   "outputs": [
    {
     "name": "stdout",
     "output_type": "stream",
     "text": [
      "\t\t\t<theme>\n",
      "\t\t\t\t<themekt>ISO 19115 Topic Category</themekt>\n",
      "\t\t\t\t<themekey>geoscientificInformation</themekey>\n",
      "\t\t\t\t<themekey>economy</themekey>\n",
      "\t\t\t</theme>\n"
     ]
    }
   ],
   "source": [
    "#Let's create a key words array for each dictionary type - then loop through arrays and concatenate to {keywords}\n",
    "#Add text below in single quotes seperated by commas\n",
    "\n",
    "#########################################################################################################################\n",
    "arrThemeISO = ['geoscientificInformation','economy']\n",
    "#########################################################################################################################\n",
    "\n",
    "txtThemeISO = '\\t\\t\\t<theme>\\n\\t\\t\\t\\t<themekt>ISO 19115 Topic Category</themekt>'\n",
    "for i in range(len(arrThemeISO)):\n",
    " txtThemeISO = txtThemeISO +  '\\n\\t\\t\\t\\t<themekey>' + arrThemeISO[i] + '</themekey>'\n",
    "\n",
    "txtThemeISO = txtThemeISO + '\\n\\t\\t\\t</theme>'\n",
    "print(str(txtThemeISO))\n"
   ]
  },
  {
   "cell_type": "code",
   "execution_count": 118,
   "metadata": {},
   "outputs": [
    {
     "name": "stdout",
     "output_type": "stream",
     "text": [
      "\n",
      "\t\t\t<theme>\n",
      "\t\t\t\t<themekt>None</themekt>\n",
      "\t\t\t\t<themekey>Mineral Resources Program</themekey>\n",
      "\t\t\t\t<themekey>MRP</themekey>\n",
      "\t\t\t\t<themekey>Geology, Geophysics, and Geochemistry Science Center</themekey>\n",
      "\t\t\t\t<themekey>GGGSC</themekey>\n",
      "\t\t\t\t<themekey>Earth Mapping Resources Initiative</themekey>\n",
      "\t\t\t\t<themekey>EarthMRI</themekey>\n",
      "\t\t\t\t<themekey>horizontal magnetic gradiometry</themekey>\n",
      "\t\t\t\t<themekey>vertical magnetic gradient</themekey>\n",
      "\t\t\t\t<themekey>airborne geophysical survey</themekey>\n",
      "\t\t\t\t<themekey>U.S. Geological Survey</themekey>\n",
      "\t\t\t\t<themekey>USGS</themekey>\n",
      "\t\t\t</theme>\n"
     ]
    }
   ],
   "source": [
    "#Let's create a key words array for each dictionary type - then loop through arrays and concatenate to {keywords}\n",
    "#Add text below in single quotes seperated by commas\n",
    "\n",
    "#########################################################################################################################\n",
    "arrThemeNONE = ['Mineral Resources Program','MRP', 'Geology, Geophysics, and Geochemistry Science Center' \\\n",
    "            ,'GGGSC','Earth Mapping Resources Initiative','EarthMRI','horizontal magnetic gradiometry', \\\n",
    "            'vertical magnetic gradient','airborne geophysical survey','U.S. Geological Survey','USGS']\n",
    "#########################################################################################################################\n",
    "\n",
    "txtThemeNONE = '\\n\\t\\t\\t<theme>\\n\\t\\t\\t\\t<themekt>None</themekt>'\n",
    "for i in range(len(arrThemeNONE)):\n",
    " txtThemeNONE = txtThemeNONE +  '\\n\\t\\t\\t\\t<themekey>' + arrThemeNONE[i] + '</themekey>'\n",
    "\n",
    "txtThemeNONE = txtThemeNONE + '\\n\\t\\t\\t</theme>'\n",
    "print(str(txtThemeNONE))"
   ]
  },
  {
   "cell_type": "code",
   "execution_count": 80,
   "metadata": {},
   "outputs": [
    {
     "name": "stdout",
     "output_type": "stream",
     "text": [
      "\n",
      "\t\t\t<theme>\n",
      "\t\t\t\t<themekt>USGS Thesaurus</themekt>\n",
      "\t\t\t\t<themekey>magnetic field (earth)</themekey>\n",
      "\t\t\t\t<themekey>geophysics</themekey>\n",
      "\t\t\t\t<themekey>geospatial datasets</themekey>\n",
      "\t\t\t\t<themekey>aeromagnetic surveying</themekey>\n",
      "\t\t\t</theme>\n"
     ]
    }
   ],
   "source": [
    "#Let's create a key words array for each dictionary type - then loop through arrays and concatenate to {keywords}\n",
    "#Add text below in single quotes seperated by commas\n",
    "\n",
    "#########################################################################################################################\n",
    "arrThemeUSGS = ['magnetic field (earth)','geophysics', 'geospatial datasets', 'aeromagnetic surveying']\n",
    "#########################################################################################################################\n",
    "\n",
    "txtThemeUSGS = '\\n\\t\\t\\t<theme>\\n\\t\\t\\t\\t<themekt>USGS Thesaurus</themekt>'\n",
    "for i in range(len(arrThemeUSGS)):\n",
    " txtThemeUSGS = txtThemeUSGS +  '\\n\\t\\t\\t\\t<themekey>' + arrThemeUSGS[i] + '</themekey>'\n",
    "\n",
    "txtThemeUSGS = txtThemeUSGS + '\\n\\t\\t\\t</theme>'\n",
    "print(str(txtThemeUSGS))"
   ]
  },
  {
   "cell_type": "code",
   "execution_count": 81,
   "metadata": {},
   "outputs": [
    {
     "name": "stdout",
     "output_type": "stream",
     "text": [
      "\n",
      "\t\t\t<place>\n",
      "\t\t\t\t<placekt>USGS Geographic Names Information System (GNIS), https://geonames.usgs.gov </placekt>\n",
      "\t\t\t\t<placekey>Fremont County</placekey>\n",
      "\t\t\t\t<placekey>Custer County</placekey>\n",
      "\t\t\t\t<placekey>Wet Mountains</placekey>\n",
      "\t\t\t\t<placekey>Rosita Hills</placekey>\n",
      "\t\t\t\t<placekey>Grape Creek</placekey>\n",
      "\t\t\t\t<placekey>Canon City</placekey>\n",
      "\t\t\t\t<placekey>Oak Creek</placekey>\n",
      "\t\t\t\t<placekey>Wilson Creek</placekey>\n",
      "\t\t\t\t<placekey>North Hardscrabble Creek</placekey>\n",
      "\t\t\t\t<placekey>Gorge Hills</placekey>\n",
      "\t\t\t\t<placekey>Antelope Creek</placekey>\n",
      "\t\t\t\t<placekey>Grand Canyon Hills</placekey>\n",
      "\t\t\t\t<placekey>Texas Creek</placekey>\n",
      "\t\t\t\t<placekey>Tallahassee Creek</placekey>\n",
      "\t\t\t\t<placekey>Arkansas River</placekey>\n",
      "\t\t\t</place>\n"
     ]
    }
   ],
   "source": [
    "#Let's create a key words array for each dictionary type - then loop through arrays and concatenate to {keywords}\n",
    "#Add text below in single quotes seperated by commas\n",
    "\n",
    "#########################################################################################################################\n",
    "arrPlaceGNIS = ['Fremont County','Custer County', 'Wet Mountains','Rosita Hills','Grape Creek','Canon City','Oak Creek','Wilson Creek','North Hardscrabble Creek','Gorge Hills','Antelope Creek','Grand Canyon Hills','Texas Creek', 'Tallahassee Creek', 'Arkansas River']\n",
    "#########################################################################################################################\n",
    "\n",
    "txtPlaceGNIS = '\\n\\t\\t\\t<place>\\n\\t\\t\\t\\t<placekt>USGS Geographic Names Information System (GNIS), https://geonames.usgs.gov </placekt>'\n",
    "for i in range(len(arrPlaceGNIS)):\n",
    " txtPlaceGNIS = txtPlaceGNIS +  '\\n\\t\\t\\t\\t<placekey>' + arrPlaceGNIS[i] + '</placekey>'\n",
    "\n",
    "\n",
    "txtPlaceGNIS = txtPlaceGNIS + '\\n\\t\\t\\t</place>'\n",
    "print(str(txtPlaceGNIS))"
   ]
  },
  {
   "cell_type": "code",
   "execution_count": 82,
   "metadata": {},
   "outputs": [
    {
     "name": "stdout",
     "output_type": "stream",
     "text": [
      "\n",
      "\t\t\t<place>\n",
      "\t\t\t\t<placekt>Common geographic areas</placekt>\n",
      "\t\t\t\t<placekey>Colorado</placekey>\n",
      "\t\t\t\t<placekey>United States</placekey>\n",
      "\t\t\t</place>\n"
     ]
    }
   ],
   "source": [
    "#Let's create a key words array for each dictionary type - then loop through arrays and concatenate to {keywords}\n",
    "#Add text below in single quotes seperated by commas\n",
    "\n",
    "#########################################################################################################################\n",
    "arrPlaceCom = ['Colorado', 'United States']\n",
    "#########################################################################################################################\n",
    "\n",
    "txtPlaceCom = '\\n\\t\\t\\t<place>\\n\\t\\t\\t\\t<placekt>Common geographic areas</placekt>'\n",
    "for i in range(len(arrPlaceCom)):\n",
    " txtPlaceCom = txtPlaceCom +  '\\n\\t\\t\\t\\t<placekey>' + arrPlaceCom[i] + '</placekey>'\n",
    "\n",
    "txtPlaceCom = txtPlaceCom + '\\n\\t\\t\\t</place>'\n",
    "print(str(txtPlaceCom))"
   ]
  },
  {
   "cell_type": "code",
   "execution_count": 83,
   "metadata": {},
   "outputs": [
    {
     "name": "stdout",
     "output_type": "stream",
     "text": [
      "\n",
      "\t\t\t<place>\n",
      "\t\t\t\t<placekt>None</placekt>\n",
      "\t\t\t\t<placekey>USA</placekey>\n",
      "\t\t\t\t<placekey>United States of America</placekey>\n",
      "\t\t\t\t<placekey>south-central Colorado</placekey>\n",
      "\t\t\t</place>\n"
     ]
    }
   ],
   "source": [
    "#Let's create a key words array for each dictionary type - then loop through arrays and concatenate to {keywords}\n",
    "#Add text below in single quotes seperated by commas\n",
    "\n",
    "#########################################################################################################################\n",
    "arrPlaceNone = ['USA', 'United States of America', 'south-central Colorado']\n",
    "#########################################################################################################################\n",
    "\n",
    "txtPlaceNone = '\\n\\t\\t\\t<place>\\n\\t\\t\\t\\t<placekt>None</placekt>'\n",
    "for i in range(len(arrPlaceNone)):\n",
    " txtPlaceNone = txtPlaceNone +  '\\n\\t\\t\\t\\t<placekey>' + arrPlaceNone[i] + '</placekey>'\n",
    "\n",
    "txtPlaceNone = txtPlaceNone + '\\n\\t\\t\\t</place>'\n",
    "print(str(txtPlaceNone))"
   ]
  },
  {
   "cell_type": "code",
   "execution_count": 84,
   "metadata": {
    "scrolled": true
   },
   "outputs": [
    {
     "name": "stdout",
     "output_type": "stream",
     "text": [
      "\t\t<keywords>\n",
      "\n",
      "\t\t\t<theme>\n",
      "\t\t\t\t<themekt>USGS Thesaurus</themekt>\n",
      "\t\t\t\t<themekey>magnetic field (earth)</themekey>\n",
      "\t\t\t\t<themekey>geophysics</themekey>\n",
      "\t\t\t\t<themekey>geospatial datasets</themekey>\n",
      "\t\t\t\t<themekey>aeromagnetic surveying</themekey>\n",
      "\t\t\t</theme>\t\t\t<theme>\n",
      "\t\t\t\t<themekt>ISO 19115 Topic Category</themekt>\n",
      "\t\t\t\t<themekey>geoscientificInformation</themekey>\n",
      "\t\t\t\t<themekey>economy</themekey>\n",
      "\t\t\t</theme>\n",
      "\t\t\t<theme>\n",
      "\t\t\t\t<themekt>None</themekt>\n",
      "\t\t\t\t<themekey>Mineral Resources Program</themekey>\n",
      "\t\t\t\t<themekey>MRP</themekey>\n",
      "\t\t\t\t<themekey>Geology, Geophysics, and Geochemistry Science CenterGGGSC</themekey>\n",
      "\t\t\t\t<themekey>Earth Mapping Resources Initiative</themekey>\n",
      "\t\t\t\t<themekey>EarthMRI</themekey>\n",
      "\t\t\t\t<themekey>horizontal magnetic gradiometry</themekey>\n",
      "\t\t\t\t<themekey>vertical magnetic gradient</themekey>\n",
      "\t\t\t\t<themekey>airborne geophysical survey</themekey>\n",
      "\t\t\t\t<themekey>U.S. Geological Survey</themekey>\n",
      "\t\t\t\t<themekey>USGS</themekey>\n",
      "\t\t\t</theme>\n",
      "\t\t\t<place>\n",
      "\t\t\t\t<placekt>USGS Geographic Names Information System (GNIS), https://geonames.usgs.gov </placekt>\n",
      "\t\t\t\t<placekey>Fremont County</placekey>\n",
      "\t\t\t\t<placekey>Custer County</placekey>\n",
      "\t\t\t\t<placekey>Wet Mountains</placekey>\n",
      "\t\t\t\t<placekey>Rosita Hills</placekey>\n",
      "\t\t\t\t<placekey>Grape Creek</placekey>\n",
      "\t\t\t\t<placekey>Canon City</placekey>\n",
      "\t\t\t\t<placekey>Oak Creek</placekey>\n",
      "\t\t\t\t<placekey>Wilson Creek</placekey>\n",
      "\t\t\t\t<placekey>North Hardscrabble Creek</placekey>\n",
      "\t\t\t\t<placekey>Gorge Hills</placekey>\n",
      "\t\t\t\t<placekey>Antelope Creek</placekey>\n",
      "\t\t\t\t<placekey>Grand Canyon Hills</placekey>\n",
      "\t\t\t\t<placekey>Texas Creek</placekey>\n",
      "\t\t\t\t<placekey>Tallahassee Creek</placekey>\n",
      "\t\t\t\t<placekey>Arkansas River</placekey>\n",
      "\t\t\t</place>\n",
      "\t\t\t<place>\n",
      "\t\t\t\t<placekt>Common geographic areas</placekt>\n",
      "\t\t\t\t<placekey>Colorado</placekey>\n",
      "\t\t\t\t<placekey>United States</placekey>\n",
      "\t\t\t</place>\n",
      "\t\t\t<place>\n",
      "\t\t\t\t<placekt>None</placekt>\n",
      "\t\t\t\t<placekey>USA</placekey>\n",
      "\t\t\t\t<placekey>United States of America</placekey>\n",
      "\t\t\t\t<placekey>south-central Colorado</placekey>\n",
      "\t\t\t</place>\n",
      "\t\t</keywords>\n"
     ]
    }
   ],
   "source": [
    "## Create editable keywords example.  \n",
    "## Example text is created after running this cell\n",
    "## This text is displayed by running \"display(keywords) below\n",
    "keywords = '\\t\\t<keywords>\\n' + txtThemeUSGS + txtThemeISO + txtThemeNONE + txtPlaceGNIS + txtPlaceCom + txtPlaceNone +'\\n\\t\\t</keywords>'\n",
    "print (keywords)"
   ]
  },
  {
   "cell_type": "markdown",
   "metadata": {},
   "source": [
    "# Create process descriptions and dates"
   ]
  },
  {
   "cell_type": "code",
   "execution_count": 85,
   "metadata": {},
   "outputs": [
    {
     "name": "stdout",
     "output_type": "stream",
     "text": [
      "\t\t<lineage>\n",
      "\t\t\t<procstep>\n",
      "\t\t\t\t<procdesc>The airborne survey was flown under contract with Sanders Geophysics Limited from June 15, 2021 to July 27, 2021.</procdesc>\n",
      "\t\t\t\t<procdate>20210721</procdate>\n",
      "\t\t\t</procstep>\n",
      "\t\t\t<procstep>\n",
      "\t\t\t\t<procdesc>The survey data and report were delivered on February 25, 2022.</procdesc>\n",
      "\t\t\t\t<procdate>20220225</procdate>\n",
      "\t\t\t</procstep>\n",
      "\t\t\t<procstep>\n",
      "\t\t\t\t<procdesc>Created Esri shapefiles of area footprint and line paths for the survey using the line data provided by the contractor.</procdesc>\n",
      "\t\t\t\t<procdate>20220516</procdate>\n",
      "\t\t\t</procstep>\n",
      "\t\t\t<procstep>\n",
      "\t\t\t\t<procdesc>Final magnetic data were exported to CSV-format with a defined null value to meet open data requirements.</procdesc>\n",
      "\t\t\t\t<procdate>20220519</procdate>\n",
      "\t\t\t</procstep>\n",
      "\t\t\t<procstep>\n",
      "\t\t\t\t<procdesc>Created georeferenced rasters of the data grids provided by the contractor.</procdesc>\n",
      "\t\t\t\t<procdate>20220523</procdate>\n",
      "\t\t\t</procstep>\n",
      "\t\t\t<procstep>\n",
      "\t\t\t\t<procdesc>Final radiometric data were exported to netCDF-format with a defined null value to meet open data requirements.</procdesc>\n",
      "\t\t\t\t<procdate>20220525</procdate>\n",
      "\t\t\t</procstep>\n",
      "\t\t</lineage>\n"
     ]
    }
   ],
   "source": [
    "##### Now let's create the lineage 2-D array of Process steps and dates\n",
    "#Add text below in single quotes seperated by commas.  Sequencial 2-D arrays are seperated by brackets []\n",
    "#2-D Array form is [['procdesc1','procdate1'],['procdesc2','procdate2'],etc...]\n",
    "\n",
    "######################################################################################################################################################################################################################################################################################################################################################################################\n",
    "arrLineage = [ \\\n",
    "             ['The airborne survey was flown under contract with Sanders Geophysics Limited from June 15, 2021 to July 27, 2021.', '20210721'] \\\n",
    "             ,['The survey data and report were delivered on February 25, 2022.', '20220225'] \\\n",
    "             ,['Created Esri shapefiles of area footprint and line paths for the survey using the line data provided by the contractor.','20220516'] \\\n",
    "             ,['Final magnetic data were exported to CSV-format with a defined null value to meet open data requirements.','20220519'] \\\n",
    "             ,['Created georeferenced rasters of the data grids provided by the contractor.','20220523'] \\\n",
    "             ,['Final radiometric data were exported to netCDF-format with a defined null value to meet open data requirements.','20220525'] \\\n",
    "             ]\n",
    "######################################################################################################################################################################################################################################################################################################################################################################################\n",
    "\n",
    "txtLineage = '\\t\\t<lineage>'\n",
    "for i in range(len(arrLineage)):\n",
    " txtLineage = txtLineage + '\\n\\t\\t\\t<procstep>' +  '\\n\\t\\t\\t\\t<procdesc>' + arrLineage[i][0] + '</procdesc>\\n\\t\\t\\t\\t' \\\n",
    "    + '<procdate>' + arrLineage[i][1] + '</procdate>' + '\\n\\t\\t\\t</procstep>'\n",
    "\n",
    "txtLineage = txtLineage + '\\n\\t\\t</lineage>'\n",
    "print(str(txtLineage))\n",
    "lineage = txtLineage"
   ]
  },
  {
   "cell_type": "markdown",
   "metadata": {},
   "source": [
    "# Step One - Set Directory Paths\n",
    "## Please set directory paths below\n",
    "### Directory paths include\n",
    "- Data Path: This is the path to the data, data structure should have a directory for each station\n",
    "- Template Path: The path to the XML metadata template being used for the data.  This template should already include all information common to all child metadata files e.g. originators, larger work citation, etc."
   ]
  },
  {
   "cell_type": "code",
   "execution_count": 86,
   "metadata": {},
   "outputs": [],
   "source": [
    "#Set Data Paths - perhaps we'll get a user form to do this some day?\n",
    "# The r signifies a string literal. Use for paths.\n",
    "\n",
    "magMetaDataTemplatePath = r\"C:\\CurrentWork\\DataReleases\\IP-139145_WetMountains\"\n",
    "magMetaDataTemplateName = \"AirborneMagneticAndRadiometricSurveyWetMountainsSouthCentralColorado2021_MetaData--TEMPLATE.xml\"\n",
    "magCSVfileDir = r\"C:\\CurrentWork\\DataReleases\\IP-139145_WetMountains\\Uploads\\MagChild\"\n",
    "magCSVfileName = \"LineData_AirborneMagneticAndRadiometricSurveyWetMountainsSouthCentralColorado2021.csv\""
   ]
  },
  {
   "cell_type": "code",
   "execution_count": 87,
   "metadata": {},
   "outputs": [
    {
     "name": "stdout",
     "output_type": "stream",
     "text": [
      "The Mag CSV Data Path is: \"C:\\CurrentWork\\DataReleases\\IP-139145_WetMountains\\Uploads\\MagChild\\LineData_AirborneMagneticAndRadiometricSurveyWetMountainsSouthCentralColorado2021.csv\"\n",
      "The Template File Path is: \"C:\\CurrentWork\\DataReleases\\IP-139145_WetMountains\\AirborneMagneticAndRadiometricSurveyWetMountainsSouthCentralColorado2021_MetaData--TEMPLATE.xml\"\n"
     ]
    }
   ],
   "source": [
    "#Check Paths for the fun of it\n",
    "magCSVfilePath = magCSVfileDir + '\\\\' + magCSVfileName\n",
    "print ('The Mag CSV Data Path is: ' + '\"' + magCSVfilePath + '\"')#magCSVfilePath\n",
    "magMetadataTemplatefilePath = magMetaDataTemplatePath + \"\\\\\" + magMetaDataTemplateName\n",
    "print ('The Template File Path is: ' + '\"' + magMetadataTemplatefilePath + '\"')"
   ]
  },
  {
   "cell_type": "code",
   "execution_count": 88,
   "metadata": {},
   "outputs": [
    {
     "data": {
      "text/plain": [
       "'LineData_AirborneMagneticAndRadiometricSurveyWetMountainsSouthCentralColorado2021.csvRTPMag_AirborneMagneticAndRadiometricSurveyWetMountainsSouthCentralColorado2021.tfwRTPMag_AirborneMagneticAndRadiometricSurveyWetMountainsSouthCentralColorado2021.tifRTPMag_AirborneMagneticAndRadiometricSurveyWetMountainsSouthCentralColorado2021.tif.aux.xmlRTPMag_AirborneMagneticAndRadiometricSurveyWetMountainsSouthCentralColorado2021.tif.ovr'"
      ]
     },
     "execution_count": 88,
     "metadata": {},
     "output_type": "execute_result"
    }
   ],
   "source": [
    "tifFilesPath = r\"C:\\CurrentWork\\DataReleases\\IP-139145_WetMountains\\Uploads\\MagChild\"\n",
    "tifList = glob.glob(os.path.join(tifFilesPath, '*.*'),  recursive=True)\n",
    "fileListing = ''\n",
    "rspFileListing = []\n",
    "for i in range(len(tifList)):\n",
    "    splitTifList = tifList[i].split('\\\\')\n",
    "    fileListing = fileListing +  splitTifList[len(splitTifList) - 1]\n",
    "    rspFileListing.append(splitTifList[len(splitTifList) - 1])\n",
    "#print (fileListing)\n",
    "fileListing"
   ]
  },
  {
   "cell_type": "code",
   "execution_count": 89,
   "metadata": {},
   "outputs": [
    {
     "data": {
      "text/plain": [
       "['LineData_AirborneMagneticAndRadiometricSurveyWetMountainsSouthCentralColorado2021.csv',\n",
       " 'RTPMag_AirborneMagneticAndRadiometricSurveyWetMountainsSouthCentralColorado2021.tfw',\n",
       " 'RTPMag_AirborneMagneticAndRadiometricSurveyWetMountainsSouthCentralColorado2021.tif',\n",
       " 'RTPMag_AirborneMagneticAndRadiometricSurveyWetMountainsSouthCentralColorado2021.tif.aux.xml',\n",
       " 'RTPMag_AirborneMagneticAndRadiometricSurveyWetMountainsSouthCentralColorado2021.tif.ovr']"
      ]
     },
     "execution_count": 89,
     "metadata": {},
     "output_type": "execute_result"
    }
   ],
   "source": [
    "tifFilesPath = r\"C:\\CurrentWork\\DataReleases\\IP-139145_WetMountains\\Uploads\\MagChild\"\n",
    "List = glob.glob(os.path.join(tifFilesPath, '*.tif'),  recursive=True)\n",
    "fileListing = ''\n",
    "rspFileListing = []\n",
    "for i in range(len(tifList)):\n",
    "    splitTifList = tifList[i].split('\\\\')\n",
    "    fileListing = fileListing +  splitTifList[len(splitTifList) - 1] + '\\n'\n",
    "    rspFileListing.append(splitTifList[len(splitTifList) - 1])\n",
    "#print (fileListing)\n",
    "rspFileListing"
   ]
  },
  {
   "cell_type": "markdown",
   "metadata": {},
   "source": [
    "## Lets now import and index values from the CSV file\n",
    "- We need create arrays of description and unit values for the metadata template.  \n",
    "- We also want to run stats on the csv columns for the entity and attributes section"
   ]
  },
  {
   "cell_type": "code",
   "execution_count": 90,
   "metadata": {
    "scrolled": true
   },
   "outputs": [
    {
     "name": "stdout",
     "output_type": "stream",
     "text": [
      "!!! PLEASE BE PATIENT AND TAKE SEVERAL BREATHS !!!\n",
      "Reading file into Pandas, this may take several minutes depending on the file size...\n"
     ]
    },
    {
     "name": "stderr",
     "output_type": "stream",
     "text": [
      "C:\\Users\\pbrown\\Anaconda3\\lib\\site-packages\\IPython\\core\\interactiveshell.py:3444: FutureWarning: The warn_bad_lines argument has been deprecated and will be removed in a future version.\n",
      "\n",
      "\n",
      "  exec(code_obj, self.user_global_ns, self.user_ns)\n",
      "C:\\Users\\pbrown\\Anaconda3\\lib\\site-packages\\IPython\\core\\interactiveshell.py:3444: FutureWarning: The error_bad_lines argument has been deprecated and will be removed in a future version.\n",
      "\n",
      "\n",
      "  exec(code_obj, self.user_global_ns, self.user_ns)\n"
     ]
    },
    {
     "data": {
      "text/html": [
       "<div>\n",
       "<style scoped>\n",
       "    .dataframe tbody tr th:only-of-type {\n",
       "        vertical-align: middle;\n",
       "    }\n",
       "\n",
       "    .dataframe tbody tr th {\n",
       "        vertical-align: top;\n",
       "    }\n",
       "\n",
       "    .dataframe thead th {\n",
       "        text-align: right;\n",
       "    }\n",
       "</style>\n",
       "<table border=\"1\" class=\"dataframe\">\n",
       "  <thead>\n",
       "    <tr style=\"text-align: right;\">\n",
       "      <th></th>\n",
       "      <th>AMF</th>\n",
       "      <th>DIR</th>\n",
       "      <th>DIURNAL</th>\n",
       "      <th>DOY</th>\n",
       "      <th>DRAPE_N83</th>\n",
       "      <th>FLT</th>\n",
       "      <th>FTIME</th>\n",
       "      <th>GPS_X_N83</th>\n",
       "      <th>GPS_X_W84</th>\n",
       "      <th>GPS_Y_N83</th>\n",
       "      <th>...</th>\n",
       "      <th>MAGLAG</th>\n",
       "      <th>MAGLEV</th>\n",
       "      <th>MAGLEVCOR</th>\n",
       "      <th>MAGMLEV</th>\n",
       "      <th>MAGMLEVCOR</th>\n",
       "      <th>MAGUC</th>\n",
       "      <th>MSL_Z</th>\n",
       "      <th>RADAR</th>\n",
       "      <th>TER</th>\n",
       "      <th>YEAR</th>\n",
       "    </tr>\n",
       "  </thead>\n",
       "  <tbody>\n",
       "    <tr>\n",
       "      <th>0</th>\n",
       "      <td>970.415</td>\n",
       "      <td>W</td>\n",
       "      <td>29.387</td>\n",
       "      <td>166</td>\n",
       "      <td>3388.72</td>\n",
       "      <td>1001</td>\n",
       "      <td>45891.3</td>\n",
       "      <td>489046.68</td>\n",
       "      <td>489045.78</td>\n",
       "      <td>4209068.01</td>\n",
       "      <td>...</td>\n",
       "      <td>51599.437</td>\n",
       "      <td>51560.862</td>\n",
       "      <td>-9.188</td>\n",
       "      <td>51560.141</td>\n",
       "      <td>-0.721</td>\n",
       "      <td>51593.628</td>\n",
       "      <td>3386.35</td>\n",
       "      <td>123.93</td>\n",
       "      <td>3264.41</td>\n",
       "      <td>2021</td>\n",
       "    </tr>\n",
       "    <tr>\n",
       "      <th>1</th>\n",
       "      <td>972.556</td>\n",
       "      <td>W</td>\n",
       "      <td>29.386</td>\n",
       "      <td>166</td>\n",
       "      <td>3388.94</td>\n",
       "      <td>1001</td>\n",
       "      <td>45891.4</td>\n",
       "      <td>489043.57</td>\n",
       "      <td>489042.66</td>\n",
       "      <td>4209068.10</td>\n",
       "      <td>...</td>\n",
       "      <td>51601.569</td>\n",
       "      <td>51562.995</td>\n",
       "      <td>-9.188</td>\n",
       "      <td>51562.273</td>\n",
       "      <td>-0.721</td>\n",
       "      <td>51595.526</td>\n",
       "      <td>3386.56</td>\n",
       "      <td>123.02</td>\n",
       "      <td>3265.56</td>\n",
       "      <td>2021</td>\n",
       "    </tr>\n",
       "    <tr>\n",
       "      <th>2</th>\n",
       "      <td>974.541</td>\n",
       "      <td>W</td>\n",
       "      <td>29.385</td>\n",
       "      <td>166</td>\n",
       "      <td>3389.16</td>\n",
       "      <td>1001</td>\n",
       "      <td>45891.5</td>\n",
       "      <td>489040.46</td>\n",
       "      <td>489039.55</td>\n",
       "      <td>4209068.20</td>\n",
       "      <td>...</td>\n",
       "      <td>51603.544</td>\n",
       "      <td>51564.970</td>\n",
       "      <td>-9.188</td>\n",
       "      <td>51564.248</td>\n",
       "      <td>-0.722</td>\n",
       "      <td>51597.242</td>\n",
       "      <td>3386.78</td>\n",
       "      <td>122.08</td>\n",
       "      <td>3266.75</td>\n",
       "      <td>2021</td>\n",
       "    </tr>\n",
       "    <tr>\n",
       "      <th>3</th>\n",
       "      <td>976.354</td>\n",
       "      <td>W</td>\n",
       "      <td>29.385</td>\n",
       "      <td>166</td>\n",
       "      <td>3389.37</td>\n",
       "      <td>1001</td>\n",
       "      <td>45891.6</td>\n",
       "      <td>489037.35</td>\n",
       "      <td>489036.44</td>\n",
       "      <td>4209068.33</td>\n",
       "      <td>...</td>\n",
       "      <td>51605.349</td>\n",
       "      <td>51566.776</td>\n",
       "      <td>-9.188</td>\n",
       "      <td>51566.054</td>\n",
       "      <td>-0.722</td>\n",
       "      <td>51598.764</td>\n",
       "      <td>3387.01</td>\n",
       "      <td>121.13</td>\n",
       "      <td>3267.96</td>\n",
       "      <td>2021</td>\n",
       "    </tr>\n",
       "    <tr>\n",
       "      <th>4</th>\n",
       "      <td>977.986</td>\n",
       "      <td>W</td>\n",
       "      <td>29.384</td>\n",
       "      <td>166</td>\n",
       "      <td>3389.59</td>\n",
       "      <td>1001</td>\n",
       "      <td>45891.7</td>\n",
       "      <td>489034.25</td>\n",
       "      <td>489033.34</td>\n",
       "      <td>4209068.43</td>\n",
       "      <td>...</td>\n",
       "      <td>51606.971</td>\n",
       "      <td>51568.399</td>\n",
       "      <td>-9.188</td>\n",
       "      <td>51567.676</td>\n",
       "      <td>-0.722</td>\n",
       "      <td>51600.078</td>\n",
       "      <td>3387.24</td>\n",
       "      <td>120.15</td>\n",
       "      <td>3269.20</td>\n",
       "      <td>2021</td>\n",
       "    </tr>\n",
       "    <tr>\n",
       "      <th>...</th>\n",
       "      <td>...</td>\n",
       "      <td>...</td>\n",
       "      <td>...</td>\n",
       "      <td>...</td>\n",
       "      <td>...</td>\n",
       "      <td>...</td>\n",
       "      <td>...</td>\n",
       "      <td>...</td>\n",
       "      <td>...</td>\n",
       "      <td>...</td>\n",
       "      <td>...</td>\n",
       "      <td>...</td>\n",
       "      <td>...</td>\n",
       "      <td>...</td>\n",
       "      <td>...</td>\n",
       "      <td>...</td>\n",
       "      <td>...</td>\n",
       "      <td>...</td>\n",
       "      <td>...</td>\n",
       "      <td>...</td>\n",
       "      <td>...</td>\n",
       "    </tr>\n",
       "    <tr>\n",
       "      <th>4754798</th>\n",
       "      <td>-191.389</td>\n",
       "      <td>N</td>\n",
       "      <td>-5.560</td>\n",
       "      <td>166</td>\n",
       "      <td>1975.93</td>\n",
       "      <td>1001</td>\n",
       "      <td>55195.2</td>\n",
       "      <td>489124.62</td>\n",
       "      <td>489123.72</td>\n",
       "      <td>4234031.01</td>\n",
       "      <td>...</td>\n",
       "      <td>50557.259</td>\n",
       "      <td>50557.697</td>\n",
       "      <td>-4.772</td>\n",
       "      <td>50557.668</td>\n",
       "      <td>-0.029</td>\n",
       "      <td>50562.554</td>\n",
       "      <td>1995.21</td>\n",
       "      <td>84.59</td>\n",
       "      <td>1910.70</td>\n",
       "      <td>2021</td>\n",
       "    </tr>\n",
       "    <tr>\n",
       "      <th>4754799</th>\n",
       "      <td>-191.119</td>\n",
       "      <td>N</td>\n",
       "      <td>-5.556</td>\n",
       "      <td>166</td>\n",
       "      <td>1975.74</td>\n",
       "      <td>1001</td>\n",
       "      <td>55195.3</td>\n",
       "      <td>489124.43</td>\n",
       "      <td>489123.52</td>\n",
       "      <td>4234034.31</td>\n",
       "      <td>...</td>\n",
       "      <td>50557.569</td>\n",
       "      <td>50557.978</td>\n",
       "      <td>-4.772</td>\n",
       "      <td>50557.959</td>\n",
       "      <td>-0.019</td>\n",
       "      <td>50562.818</td>\n",
       "      <td>1995.03</td>\n",
       "      <td>84.47</td>\n",
       "      <td>1910.65</td>\n",
       "      <td>2021</td>\n",
       "    </tr>\n",
       "    <tr>\n",
       "      <th>4754800</th>\n",
       "      <td>-190.849</td>\n",
       "      <td>N</td>\n",
       "      <td>-5.552</td>\n",
       "      <td>166</td>\n",
       "      <td>1975.56</td>\n",
       "      <td>1001</td>\n",
       "      <td>55195.4</td>\n",
       "      <td>489124.23</td>\n",
       "      <td>489123.32</td>\n",
       "      <td>4234037.61</td>\n",
       "      <td>...</td>\n",
       "      <td>50557.884</td>\n",
       "      <td>50558.260</td>\n",
       "      <td>-4.772</td>\n",
       "      <td>50558.251</td>\n",
       "      <td>-0.009</td>\n",
       "      <td>50563.081</td>\n",
       "      <td>1994.85</td>\n",
       "      <td>84.34</td>\n",
       "      <td>1910.60</td>\n",
       "      <td>2021</td>\n",
       "    </tr>\n",
       "    <tr>\n",
       "      <th>4754801</th>\n",
       "      <td>-190.582</td>\n",
       "      <td>N</td>\n",
       "      <td>-5.547</td>\n",
       "      <td>166</td>\n",
       "      <td>1975.38</td>\n",
       "      <td>1001</td>\n",
       "      <td>55195.5</td>\n",
       "      <td>489123.99</td>\n",
       "      <td>489123.08</td>\n",
       "      <td>4234040.91</td>\n",
       "      <td>...</td>\n",
       "      <td>50558.201</td>\n",
       "      <td>50558.540</td>\n",
       "      <td>-4.772</td>\n",
       "      <td>50558.537</td>\n",
       "      <td>-0.003</td>\n",
       "      <td>50563.343</td>\n",
       "      <td>1994.66</td>\n",
       "      <td>84.20</td>\n",
       "      <td>1910.56</td>\n",
       "      <td>2021</td>\n",
       "    </tr>\n",
       "    <tr>\n",
       "      <th>4754802</th>\n",
       "      <td>-190.323</td>\n",
       "      <td>N</td>\n",
       "      <td>-5.543</td>\n",
       "      <td>166</td>\n",
       "      <td>1975.20</td>\n",
       "      <td>1001</td>\n",
       "      <td>55195.6</td>\n",
       "      <td>489123.74</td>\n",
       "      <td>489122.83</td>\n",
       "      <td>4234044.20</td>\n",
       "      <td>...</td>\n",
       "      <td>50558.519</td>\n",
       "      <td>50558.817</td>\n",
       "      <td>-4.772</td>\n",
       "      <td>50558.817</td>\n",
       "      <td>0.000</td>\n",
       "      <td>50563.603</td>\n",
       "      <td>1994.46</td>\n",
       "      <td>84.06</td>\n",
       "      <td>1910.52</td>\n",
       "      <td>2021</td>\n",
       "    </tr>\n",
       "  </tbody>\n",
       "</table>\n",
       "<p>4754803 rows × 31 columns</p>\n",
       "</div>"
      ],
      "text/plain": [
       "             AMF DIR  DIURNAL  DOY  DRAPE_N83   FLT    FTIME  GPS_X_N83  \\\n",
       "0        970.415   W   29.387  166    3388.72  1001  45891.3  489046.68   \n",
       "1        972.556   W   29.386  166    3388.94  1001  45891.4  489043.57   \n",
       "2        974.541   W   29.385  166    3389.16  1001  45891.5  489040.46   \n",
       "3        976.354   W   29.385  166    3389.37  1001  45891.6  489037.35   \n",
       "4        977.986   W   29.384  166    3389.59  1001  45891.7  489034.25   \n",
       "...          ...  ..      ...  ...        ...   ...      ...        ...   \n",
       "4754798 -191.389   N   -5.560  166    1975.93  1001  55195.2  489124.62   \n",
       "4754799 -191.119   N   -5.556  166    1975.74  1001  55195.3  489124.43   \n",
       "4754800 -190.849   N   -5.552  166    1975.56  1001  55195.4  489124.23   \n",
       "4754801 -190.582   N   -5.547  166    1975.38  1001  55195.5  489123.99   \n",
       "4754802 -190.323   N   -5.543  166    1975.20  1001  55195.6  489123.74   \n",
       "\n",
       "         GPS_X_W84   GPS_Y_N83  ...     MAGLAG     MAGLEV  MAGLEVCOR  \\\n",
       "0        489045.78  4209068.01  ...  51599.437  51560.862     -9.188   \n",
       "1        489042.66  4209068.10  ...  51601.569  51562.995     -9.188   \n",
       "2        489039.55  4209068.20  ...  51603.544  51564.970     -9.188   \n",
       "3        489036.44  4209068.33  ...  51605.349  51566.776     -9.188   \n",
       "4        489033.34  4209068.43  ...  51606.971  51568.399     -9.188   \n",
       "...            ...         ...  ...        ...        ...        ...   \n",
       "4754798  489123.72  4234031.01  ...  50557.259  50557.697     -4.772   \n",
       "4754799  489123.52  4234034.31  ...  50557.569  50557.978     -4.772   \n",
       "4754800  489123.32  4234037.61  ...  50557.884  50558.260     -4.772   \n",
       "4754801  489123.08  4234040.91  ...  50558.201  50558.540     -4.772   \n",
       "4754802  489122.83  4234044.20  ...  50558.519  50558.817     -4.772   \n",
       "\n",
       "           MAGMLEV  MAGMLEVCOR      MAGUC    MSL_Z   RADAR      TER  YEAR  \n",
       "0        51560.141      -0.721  51593.628  3386.35  123.93  3264.41  2021  \n",
       "1        51562.273      -0.721  51595.526  3386.56  123.02  3265.56  2021  \n",
       "2        51564.248      -0.722  51597.242  3386.78  122.08  3266.75  2021  \n",
       "3        51566.054      -0.722  51598.764  3387.01  121.13  3267.96  2021  \n",
       "4        51567.676      -0.722  51600.078  3387.24  120.15  3269.20  2021  \n",
       "...            ...         ...        ...      ...     ...      ...   ...  \n",
       "4754798  50557.668      -0.029  50562.554  1995.21   84.59  1910.70  2021  \n",
       "4754799  50557.959      -0.019  50562.818  1995.03   84.47  1910.65  2021  \n",
       "4754800  50558.251      -0.009  50563.081  1994.85   84.34  1910.60  2021  \n",
       "4754801  50558.537      -0.003  50563.343  1994.66   84.20  1910.56  2021  \n",
       "4754802  50558.817       0.000  50563.603  1994.46   84.06  1910.52  2021  \n",
       "\n",
       "[4754803 rows x 31 columns]"
      ]
     },
     "execution_count": 90,
     "metadata": {},
     "output_type": "execute_result"
    }
   ],
   "source": [
    "# read file into pandas; note that can take over 1 minute depending on the size of the CSV file and computing power.\n",
    "print ('!!! PLEASE BE PATIENT AND TAKE SEVERAL BREATHS !!!')\n",
    "print ('Reading file into Pandas, this may take several minutes depending on the file size...')\n",
    "\n",
    "magDataFrame = pd.read_csv(magCSVfilePath, sep=',', delimiter=None, header='infer', names=None, index_col=None, usecols=None, squeeze=False, prefix=None, mangle_dupe_cols=True, dtype=None, engine=None, converters=None, true_values=None, false_values=None, skipinitialspace=False, skiprows=None, nrows=None, na_values=None, keep_default_na=True, na_filter=True, verbose=False, skip_blank_lines=True, parse_dates=False, infer_datetime_format=False, keep_date_col=False, date_parser=None, dayfirst=False, iterator=False, chunksize=None, compression='infer', thousands=None, decimal=b'.', lineterminator=None, quotechar='\"', quoting=0, doublequote=True, escapechar=None, comment=None, encoding=None, dialect=None, error_bad_lines=True, warn_bad_lines=True, delim_whitespace=False, low_memory=True, memory_map=False, float_precision=None)\n",
    "magDataFrame"
   ]
  },
  {
   "cell_type": "markdown",
   "metadata": {},
   "source": [
    "### EandA Channel Templates for the magnetic data are available at the following link to a shared Jupyter Notebook\n",
    "https://github.com/pbrown-usgs/SquamataAeroMag/blob/master/SquamataAeroMagEntityAndAttributeArchive.ipynb\n"
   ]
  },
  {
   "cell_type": "code",
   "execution_count": 91,
   "metadata": {},
   "outputs": [
    {
     "name": "stdout",
     "output_type": "stream",
     "text": [
      "AMF,DIR,DIURNAL,DOY,DRAPE_N83,FLT,FTIME,GPS_X_N83,GPS_X_W84,GPS_Y_N83,GPS_Y_W84,GPS_Z_N83,GPS_Z_W84,IGRF,IGRF_REF,LASER,LAT,LINE,LONG,MAGCOMP,MAGDC,MAGLAG,MAGLEV,MAGLEVCOR,MAGMLEV,MAGMLEVCOR,MAGUC,MSL_Z,RADAR,TER,YEAR,\n"
     ]
    }
   ],
   "source": [
    "# now get an array of the header names\n",
    "magHeaderList = list(magDataFrame.columns.values)\n",
    "magHeaderString = ''\n",
    "for i in range(len(magHeaderList)):\n",
    " magHeaderString = magHeaderString + magHeaderList[i] + ','\n",
    "\n",
    "print (magHeaderString)"
   ]
  },
  {
   "cell_type": "code",
   "execution_count": 119,
   "metadata": {},
   "outputs": [
    {
     "name": "stdout",
     "output_type": "stream",
     "text": [
      "westbc: -105.628371\n",
      "eastbc: -105.1235\n",
      "northbc: 38.585017\n",
      "southbc: 38.028616\n"
     ]
    }
   ],
   "source": [
    "# Get Min and Max Latitude and Longitude\n",
    "#---------------------------------------------------------------------------------\n",
    "#*************!!!MAKE SURE LAT AND LONG CHANNELS ARE CORRECT BELOW!!!*************\n",
    "#********* ENTER CORRECT LAT/LONG CHANNEL NAMES BETWEEN SINGLE QUOTES ************\n",
    "#*****!!!Make sure the results are rounded to the correct # of Sig Figs!!!********\n",
    "#---------------------------------------------------------------------------------\n",
    "\n",
    "########################################################################################################################\n",
    "westbc = magDataFrame['LONG'].dropna().min()\n",
    "########################################################################################################################\n",
    "westbc = float(westbc)    # convert to float so that number can be rounded \n",
    "westbc = round(westbc, 6) # round number to indicated number of sig figs\n",
    "#=======================================================================================================================\n",
    "\n",
    "#########################################################################################################################\n",
    "eastbc = magDataFrame['LONG'].dropna().max()\n",
    "#########################################################################################################################\n",
    "eastbc = float(eastbc)    # convert to float so that number can be rounded  \n",
    "eastbc = round(eastbc, 6) # round number to indicated number of sig figs\n",
    "#=======================================================================================================================\n",
    "\n",
    "#########################################################################################################################\n",
    "northbc = magDataFrame['LAT'].dropna().max()\n",
    "#########################################################################################################################\n",
    "northbc = float(northbc)    # convert to float so that number can be rounded \n",
    "northbc = round(northbc, 6) # round number to indicated number of sig figs\n",
    "#=======================================================================================================================\n",
    "\n",
    "#########################################################################################################################\n",
    "southbc = magDataFrame['LAT'].dropna().min()\n",
    "#########################################################################################################################\n",
    "southbc = float(southbc)    # convert to float so that number can be rounded  \n",
    "southbc = round(southbc, 6) # round number to indicated number of sig figs\n",
    "#=======================================================================================================================\n",
    "\n",
    "print ('westbc: ' + str(westbc))\n",
    "print ('eastbc: ' + str(eastbc))\n",
    "print ('northbc: ' + str(northbc))\n",
    "print ('southbc: ' + str(southbc))"
   ]
  },
  {
   "cell_type": "code",
   "execution_count": 93,
   "metadata": {
    "scrolled": true
   },
   "outputs": [
    {
     "name": "stdout",
     "output_type": "stream",
     "text": [
      "AMF,DIR,DIURNAL,DOY,DRAPE_N83,FLT,FTIME,GPS_X_N83,GPS_X_W84,GPS_Y_N83,GPS_Y_W84,GPS_Z_N83,GPS_Z_W84,IGRF,IGRF_REF,LASER,LAT,LINE,LONG,MAGCOMP,MAGDC,MAGLAG,MAGLEV,MAGLEVCOR,MAGMLEV,MAGMLEVCOR,MAGUC,MSL_Z,RADAR,TER,YEAR,\n"
     ]
    }
   ],
   "source": [
    "# now get an array of the header names\n",
    "magHeaderList = list(magDataFrame.columns.values)\n",
    "magHeaderString = ''\n",
    "for i in range(len(magHeaderList)):\n",
    " magHeaderString = magHeaderString + magHeaderList[i] + ','\n",
    "\n",
    "print (magHeaderString)"
   ]
  },
  {
   "cell_type": "code",
   "execution_count": 94,
   "metadata": {},
   "outputs": [
    {
     "name": "stdout",
     "output_type": "stream",
     "text": [
      "AMF: 0\n",
      "Max. Value AMF :4688.677\n",
      "Min. Value AMF :-926.514\n",
      "Entt Desc. Anomalous Magnetic field, IGRF corrected\n",
      "Att Unit nT\n",
      "\n",
      "DIR: 1\n",
      "Max. Value DIR :W\n",
      "Min. Value DIR :E\n",
      "Entt Desc. Flight line direction\n",
      "Att Unit none\n",
      "\n",
      "DIURNAL: 2\n",
      "Max. Value DIURNAL :29.912\n",
      "Min. Value DIURNAL :-29.485\n",
      "Entt Desc. Diurnal magnetic field from reference station\n",
      "Att Unit nT\n",
      "\n",
      "DOY: 3\n",
      "Max. Value DOY :208\n",
      "Min. Value DOY :166\n",
      "Entt Desc. Day of the year\n",
      "Att Unit none\n",
      "\n",
      "DRAPE_N83: 4\n",
      "Max. Value DRAPE_N83 :3579.29\n",
      "Min. Value DRAPE_N83 :1806.75\n",
      "Entt Desc. Drape Target Height Surface (above NAD-83 Ellipsoid)\n",
      "Att Unit m\n",
      "\n",
      "FLT: 5\n",
      "Max. Value FLT :1040\n",
      "Min. Value FLT :1001\n",
      "Entt Desc. Flight number\n",
      "Att Unit none\n",
      "\n",
      "FTIME: 6\n",
      "Max. Value FTIME :81916.9\n",
      "Min. Value FTIME :44839.2\n",
      "Entt Desc. Fiducial Seconds Past Midnight UTC\n",
      "Att Unit s\n",
      "\n",
      "GPS_X_N83: 7\n",
      "Max. Value GPS_X_N83 :489195.18\n",
      "Min. Value GPS_X_N83 :445004.45\n",
      "Entt Desc. X coordinate, NAD-83, UTM zone 13N\n",
      "Att Unit m\n",
      "\n",
      "GPS_X_W84: 8\n",
      "Max. Value GPS_X_W84 :489194.28\n",
      "Min. Value GPS_X_W84 :445003.54\n",
      "Entt Desc. X coordinate, WGS-84, UTM zone 13N\n",
      "Att Unit m\n",
      "\n",
      "GPS_Y_N83: 9\n",
      "Max. Value GPS_Y_N83 :4270910.29\n",
      "Min. Value GPS_Y_N83 :4208996.82\n",
      "Entt Desc. Y coordinate, NAD-83, UTM zone 13N\n",
      "Att Unit m\n",
      "\n",
      "GPS_Y_W84: 10\n",
      "Max. Value GPS_Y_W84 :4270910.96\n",
      "Min. Value GPS_Y_W84 :4208997.48\n",
      "Entt Desc. Y coordinate, WGS-84, UTM zone 13N\n",
      "Att Unit m\n",
      "\n",
      "GPS_Z_N83: 11\n",
      "Max. Value GPS_Z_N83 :3609.39\n",
      "Min. Value GPS_Z_N83 :1804.46\n",
      "Entt Desc. GPS elevation (above NAD-83 ellipsoid)\n",
      "Att Unit m\n",
      "\n",
      "GPS_Z_W84: 12\n",
      "Max. Value GPS_Z_W84 :3608.46\n",
      "Min. Value GPS_Z_W84 :1803.54\n",
      "Entt Desc. GPS elevation (above WGS-84 ellipsoid)\n",
      "Att Unit m\n",
      "\n",
      "IGRF: 13\n",
      "Max. Value IGRF :50895.882\n",
      "Min. Value IGRF :50560.053\n",
      "Entt Desc. IGRF correction\n",
      "Att Unit nT\n",
      "\n",
      "IGRF_REF: 14\n",
      "Max. Value IGRF_REF :3578.362\n",
      "Min. Value IGRF_REF :1805.831\n",
      "Entt Desc. IGRF Reference Surface, elevation with respect to the WGS-84 ellipsoid\n",
      "Att Unit nT\n",
      "\n",
      "LASER: 15\n",
      "Max. Value LASER :532.79\n",
      "Min. Value LASER :44.54\n",
      "Entt Desc. laser altimeter\n",
      "Att Unit m\n",
      "\n",
      "LAT: 16\n",
      "Max. Value LAT :38.5850169\n",
      "Min. Value LAT :38.028616\n",
      "Entt Desc. Latitude, WGS-84\n",
      "Att Unit deg\n",
      "\n",
      "LINE: 17\n",
      "Max. Value LINE :1411.0\n",
      "Min. Value LINE :101.0\n",
      "Entt Desc. Line number (xxxx.yy where xxxx is line number, yy is the segment number\n",
      "Att Unit none\n",
      "\n",
      "LONG: 18\n",
      "Max. Value LONG :-105.1235001\n",
      "Min. Value LONG :-105.6283712\n",
      "Entt Desc. Longitude, WGS-84\n",
      "Att Unit deg\n",
      "\n",
      "MAGCOMP: 19\n",
      "Max. Value MAGCOMP :55320.127\n",
      "Min. Value MAGCOMP :49833.207\n",
      "Entt Desc. Compensated airborne magnetic field\n",
      "Att Unit nT\n",
      "\n",
      "MAGDC: 20\n",
      "Max. Value MAGDC :55308.71\n",
      "Min. Value MAGDC :49834.889\n",
      "Entt Desc. Diurnal and Lag corrected airborne magnetic field\n",
      "Att Unit nT\n",
      "\n",
      "MAGLAG: 21\n",
      "Max. Value MAGLAG :55320.059\n",
      "Min. Value MAGLAG :49833.231\n",
      "Entt Desc. Lag corrected Compensated airborne magnetic field\n",
      "Att Unit nT\n",
      "\n",
      "MAGLEV: 22\n",
      "Max. Value MAGLEV :55300.803\n",
      "Min. Value MAGLEV :49834.509\n",
      "Entt Desc. Levelled airborne magnetic field\n",
      "Att Unit nT\n",
      "\n",
      "MAGLEVCOR: 23\n",
      "Max. Value MAGLEVCOR :822.018\n",
      "Min. Value MAGLEVCOR :-365.088\n",
      "Entt Desc. Tie-line Levelling Corrections to Magnetic Field\n",
      "Att Unit nT\n",
      "\n",
      "MAGMLEV: 24\n",
      "Max. Value MAGMLEV :55299.753\n",
      "Min. Value MAGMLEV :49835.771\n",
      "Entt Desc. Microlevelled airborne magnetic field\n",
      "Att Unit nT\n",
      "\n",
      "MAGMLEVCOR: 25\n",
      "Max. Value MAGMLEVCOR :2.071\n",
      "Min. Value MAGMLEVCOR :-2.734\n",
      "Entt Desc. Microlevelling corrections to Magnetic Field\n",
      "Att Unit nT\n",
      "\n",
      "MAGUC: 26\n",
      "Max. Value MAGUC :55311.553\n",
      "Min. Value MAGUC :49832.133\n",
      "Entt Desc. Uncompensated airborne magnetic field\n",
      "Att Unit nT\n",
      "\n",
      "MSL_Z: 27\n",
      "Max. Value MSL_Z :3623.98\n",
      "Min. Value MSL_Z :1820.05\n",
      "Entt Desc. GPS elevation (above EGM2008 geoid)\n",
      "Att Unit m\n",
      "\n",
      "RADAR: 28\n",
      "Max. Value RADAR :533.23\n",
      "Min. Value RADAR :48.18\n",
      "Entt Desc. radar altimeter\n",
      "Att Unit m\n",
      "\n",
      "TER: 29\n",
      "Max. Value TER :3519.54\n",
      "Min. Value TER :1641.53\n",
      "Entt Desc. Terrain generated from laser and GPS data, wrt the EGM2008 geoid, mean sea level reference\n",
      "Att Unit m\n",
      "\n",
      "YEAR: 30\n",
      "Max. Value YEAR :2021\n",
      "Min. Value YEAR :2021\n",
      "Entt Desc. Year\n",
      "Att Unit none\n",
      "\n",
      "\n",
      "Entity and Attribute Text:\n",
      "\n",
      "\t\t<detailed>\n",
      "\t\t\t<enttyp>\n",
      "\t\t\t\t<enttypl>LineData_AirborneMagneticAndRadiometricSurveyWetMountainsSouthCentralColorado2021.csv</enttypl>\n",
      "\t\t\t\t<enttypd>Table containing attribute information associated with the magnetic data set.</enttypd>\n",
      "\t\t\t\t<enttypds>U.S. Geological Survey</enttypds>\n",
      "\t\t\t</enttyp>\n",
      "\t\t\t\t<attr>\n",
      "\t\t\t\t\t<attrlabl>AMF</attrlabl>\n",
      "\t\t\t\t\t<attrdef>Anomalous Magnetic field, IGRF corrected</attrdef>\n",
      "\t\t\t\t\t<attrdefs>Aeroquest Limited</attrdefs>\n",
      "\t\t\t\t\t<attrdomv>\n",
      "\t\t\t\t\t\t<rdom>\n",
      "\t\t\t\t\t\t\t<rdommin>-926.514</rdommin>\n",
      "\t\t\t\t\t\t\t<rdommax>4688.677</rdommax>\n",
      "\t\t\t\t\t\t\t<attrunit>nT</attrunit>\n",
      "\t\t\t\t\t\t</rdom>\n",
      "\t\t\t\t\t\t</attrdomv>\n",
      "\t\t\t\t</attr>\n",
      "\t\t\t\t<attr>\n",
      "\t\t\t\t\t<attrlabl>DIR</attrlabl>\n",
      "\t\t\t\t\t<attrdef>Flight line direction</attrdef>\n",
      "\t\t\t\t\t<attrdefs>Aeroquest Limited</attrdefs>\n",
      "\t\t\t\t\t<attrdomv>\n",
      "\t\t\t\t\t\t<rdom>\n",
      "\t\t\t\t\t\t\t<rdommin>E</rdommin>\n",
      "\t\t\t\t\t\t\t<rdommax>W</rdommax>\n",
      "\t\t\t\t\t\t\t<attrunit>none</attrunit>\n",
      "\t\t\t\t\t\t</rdom>\n",
      "\t\t\t\t\t\t</attrdomv>\n",
      "\t\t\t\t</attr>\n",
      "\t\t\t\t<attr>\n",
      "\t\t\t\t\t<attrlabl>DIURNAL</attrlabl>\n",
      "\t\t\t\t\t<attrdef>Diurnal magnetic field from reference station</attrdef>\n",
      "\t\t\t\t\t<attrdefs>Aeroquest Limited</attrdefs>\n",
      "\t\t\t\t\t<attrdomv>\n",
      "\t\t\t\t\t\t<rdom>\n",
      "\t\t\t\t\t\t\t<rdommin>-29.485</rdommin>\n",
      "\t\t\t\t\t\t\t<rdommax>29.912</rdommax>\n",
      "\t\t\t\t\t\t\t<attrunit>nT</attrunit>\n",
      "\t\t\t\t\t\t</rdom>\n",
      "\t\t\t\t\t\t</attrdomv>\n",
      "\t\t\t\t</attr>\n",
      "\t\t\t\t<attr>\n",
      "\t\t\t\t\t<attrlabl>DOY</attrlabl>\n",
      "\t\t\t\t\t<attrdef>Day of the year</attrdef>\n",
      "\t\t\t\t\t<attrdefs>Aeroquest Limited</attrdefs>\n",
      "\t\t\t\t\t<attrdomv>\n",
      "\t\t\t\t\t\t<rdom>\n",
      "\t\t\t\t\t\t\t<rdommin>166</rdommin>\n",
      "\t\t\t\t\t\t\t<rdommax>208</rdommax>\n",
      "\t\t\t\t\t\t\t<attrunit>none</attrunit>\n",
      "\t\t\t\t\t\t</rdom>\n",
      "\t\t\t\t\t\t</attrdomv>\n",
      "\t\t\t\t</attr>\n",
      "\t\t\t\t<attr>\n",
      "\t\t\t\t\t<attrlabl>DRAPE_N83</attrlabl>\n",
      "\t\t\t\t\t<attrdef>Drape Target Height Surface (above NAD-83 Ellipsoid)</attrdef>\n",
      "\t\t\t\t\t<attrdefs>Aeroquest Limited</attrdefs>\n",
      "\t\t\t\t\t<attrdomv>\n",
      "\t\t\t\t\t\t<rdom>\n",
      "\t\t\t\t\t\t\t<rdommin>1806.75</rdommin>\n",
      "\t\t\t\t\t\t\t<rdommax>3579.29</rdommax>\n",
      "\t\t\t\t\t\t\t<attrunit>m</attrunit>\n",
      "\t\t\t\t\t\t</rdom>\n",
      "\t\t\t\t\t\t</attrdomv>\n",
      "\t\t\t\t</attr>\n",
      "\t\t\t\t<attr>\n",
      "\t\t\t\t\t<attrlabl>FLT</attrlabl>\n",
      "\t\t\t\t\t<attrdef>Flight number</attrdef>\n",
      "\t\t\t\t\t<attrdefs>Aeroquest Limited</attrdefs>\n",
      "\t\t\t\t\t<attrdomv>\n",
      "\t\t\t\t\t\t<rdom>\n",
      "\t\t\t\t\t\t\t<rdommin>1001</rdommin>\n",
      "\t\t\t\t\t\t\t<rdommax>1040</rdommax>\n",
      "\t\t\t\t\t\t\t<attrunit>none</attrunit>\n",
      "\t\t\t\t\t\t</rdom>\n",
      "\t\t\t\t\t\t</attrdomv>\n",
      "\t\t\t\t</attr>\n",
      "\t\t\t\t<attr>\n",
      "\t\t\t\t\t<attrlabl>FTIME</attrlabl>\n",
      "\t\t\t\t\t<attrdef>Fiducial Seconds Past Midnight UTC</attrdef>\n",
      "\t\t\t\t\t<attrdefs>Aeroquest Limited</attrdefs>\n",
      "\t\t\t\t\t<attrdomv>\n",
      "\t\t\t\t\t\t<rdom>\n",
      "\t\t\t\t\t\t\t<rdommin>44839.2</rdommin>\n",
      "\t\t\t\t\t\t\t<rdommax>81916.9</rdommax>\n",
      "\t\t\t\t\t\t\t<attrunit>s</attrunit>\n",
      "\t\t\t\t\t\t</rdom>\n",
      "\t\t\t\t\t\t</attrdomv>\n",
      "\t\t\t\t</attr>\n",
      "\t\t\t\t<attr>\n",
      "\t\t\t\t\t<attrlabl>GPS_X_N83</attrlabl>\n",
      "\t\t\t\t\t<attrdef>X coordinate, NAD-83, UTM zone 13N</attrdef>\n",
      "\t\t\t\t\t<attrdefs>Aeroquest Limited</attrdefs>\n",
      "\t\t\t\t\t<attrdomv>\n",
      "\t\t\t\t\t\t<rdom>\n",
      "\t\t\t\t\t\t\t<rdommin>445004.45</rdommin>\n",
      "\t\t\t\t\t\t\t<rdommax>489195.18</rdommax>\n",
      "\t\t\t\t\t\t\t<attrunit>m</attrunit>\n",
      "\t\t\t\t\t\t</rdom>\n",
      "\t\t\t\t\t\t</attrdomv>\n",
      "\t\t\t\t</attr>\n",
      "\t\t\t\t<attr>\n",
      "\t\t\t\t\t<attrlabl>GPS_X_W84</attrlabl>\n",
      "\t\t\t\t\t<attrdef>X coordinate, WGS-84, UTM zone 13N</attrdef>\n",
      "\t\t\t\t\t<attrdefs>Aeroquest Limited</attrdefs>\n",
      "\t\t\t\t\t<attrdomv>\n",
      "\t\t\t\t\t\t<rdom>\n",
      "\t\t\t\t\t\t\t<rdommin>445003.54</rdommin>\n",
      "\t\t\t\t\t\t\t<rdommax>489194.28</rdommax>\n",
      "\t\t\t\t\t\t\t<attrunit>m</attrunit>\n",
      "\t\t\t\t\t\t</rdom>\n",
      "\t\t\t\t\t\t</attrdomv>\n",
      "\t\t\t\t</attr>\n",
      "\t\t\t\t<attr>\n",
      "\t\t\t\t\t<attrlabl>GPS_Y_N83</attrlabl>\n",
      "\t\t\t\t\t<attrdef>Y coordinate, NAD-83, UTM zone 13N</attrdef>\n",
      "\t\t\t\t\t<attrdefs>Aeroquest Limited</attrdefs>\n",
      "\t\t\t\t\t<attrdomv>\n",
      "\t\t\t\t\t\t<rdom>\n",
      "\t\t\t\t\t\t\t<rdommin>4208996.82</rdommin>\n",
      "\t\t\t\t\t\t\t<rdommax>4270910.29</rdommax>\n",
      "\t\t\t\t\t\t\t<attrunit>m</attrunit>\n",
      "\t\t\t\t\t\t</rdom>\n",
      "\t\t\t\t\t\t</attrdomv>\n",
      "\t\t\t\t</attr>\n",
      "\t\t\t\t<attr>\n",
      "\t\t\t\t\t<attrlabl>GPS_Y_W84</attrlabl>\n",
      "\t\t\t\t\t<attrdef>Y coordinate, WGS-84, UTM zone 13N</attrdef>\n",
      "\t\t\t\t\t<attrdefs>Aeroquest Limited</attrdefs>\n",
      "\t\t\t\t\t<attrdomv>\n",
      "\t\t\t\t\t\t<rdom>\n",
      "\t\t\t\t\t\t\t<rdommin>4208997.48</rdommin>\n",
      "\t\t\t\t\t\t\t<rdommax>4270910.96</rdommax>\n",
      "\t\t\t\t\t\t\t<attrunit>m</attrunit>\n",
      "\t\t\t\t\t\t</rdom>\n",
      "\t\t\t\t\t\t</attrdomv>\n",
      "\t\t\t\t</attr>\n",
      "\t\t\t\t<attr>\n",
      "\t\t\t\t\t<attrlabl>GPS_Z_N83</attrlabl>\n",
      "\t\t\t\t\t<attrdef>GPS elevation (above NAD-83 ellipsoid)</attrdef>\n",
      "\t\t\t\t\t<attrdefs>Aeroquest Limited</attrdefs>\n",
      "\t\t\t\t\t<attrdomv>\n",
      "\t\t\t\t\t\t<rdom>\n",
      "\t\t\t\t\t\t\t<rdommin>1804.46</rdommin>\n",
      "\t\t\t\t\t\t\t<rdommax>3609.39</rdommax>\n",
      "\t\t\t\t\t\t\t<attrunit>m</attrunit>\n",
      "\t\t\t\t\t\t</rdom>\n",
      "\t\t\t\t\t\t</attrdomv>\n",
      "\t\t\t\t</attr>\n",
      "\t\t\t\t<attr>\n",
      "\t\t\t\t\t<attrlabl>GPS_Z_W84</attrlabl>\n",
      "\t\t\t\t\t<attrdef>GPS elevation (above WGS-84 ellipsoid)</attrdef>\n",
      "\t\t\t\t\t<attrdefs>Aeroquest Limited</attrdefs>\n",
      "\t\t\t\t\t<attrdomv>\n",
      "\t\t\t\t\t\t<rdom>\n",
      "\t\t\t\t\t\t\t<rdommin>1803.54</rdommin>\n",
      "\t\t\t\t\t\t\t<rdommax>3608.46</rdommax>\n",
      "\t\t\t\t\t\t\t<attrunit>m</attrunit>\n",
      "\t\t\t\t\t\t</rdom>\n",
      "\t\t\t\t\t\t</attrdomv>\n",
      "\t\t\t\t</attr>\n",
      "\t\t\t\t<attr>\n",
      "\t\t\t\t\t<attrlabl>IGRF</attrlabl>\n",
      "\t\t\t\t\t<attrdef>IGRF correction</attrdef>\n",
      "\t\t\t\t\t<attrdefs>Aeroquest Limited</attrdefs>\n",
      "\t\t\t\t\t<attrdomv>\n",
      "\t\t\t\t\t\t<rdom>\n",
      "\t\t\t\t\t\t\t<rdommin>50560.053</rdommin>\n",
      "\t\t\t\t\t\t\t<rdommax>50895.882</rdommax>\n",
      "\t\t\t\t\t\t\t<attrunit>nT</attrunit>\n",
      "\t\t\t\t\t\t</rdom>\n",
      "\t\t\t\t\t\t</attrdomv>\n",
      "\t\t\t\t</attr>\n",
      "\t\t\t\t<attr>\n",
      "\t\t\t\t\t<attrlabl>IGRF_REF</attrlabl>\n",
      "\t\t\t\t\t<attrdef>IGRF Reference Surface, elevation with respect to the WGS-84 ellipsoid</attrdef>\n",
      "\t\t\t\t\t<attrdefs>Aeroquest Limited</attrdefs>\n",
      "\t\t\t\t\t<attrdomv>\n",
      "\t\t\t\t\t\t<rdom>\n",
      "\t\t\t\t\t\t\t<rdommin>1805.831</rdommin>\n",
      "\t\t\t\t\t\t\t<rdommax>3578.362</rdommax>\n",
      "\t\t\t\t\t\t\t<attrunit>nT</attrunit>\n",
      "\t\t\t\t\t\t</rdom>\n",
      "\t\t\t\t\t\t</attrdomv>\n",
      "\t\t\t\t</attr>\n",
      "\t\t\t\t<attr>\n",
      "\t\t\t\t\t<attrlabl>LASER</attrlabl>\n",
      "\t\t\t\t\t<attrdef>laser altimeter</attrdef>\n",
      "\t\t\t\t\t<attrdefs>Aeroquest Limited</attrdefs>\n",
      "\t\t\t\t\t<attrdomv>\n",
      "\t\t\t\t\t\t<rdom>\n",
      "\t\t\t\t\t\t\t<rdommin>44.54</rdommin>\n",
      "\t\t\t\t\t\t\t<rdommax>532.79</rdommax>\n",
      "\t\t\t\t\t\t\t<attrunit>m</attrunit>\n",
      "\t\t\t\t\t\t</rdom>\n",
      "\t\t\t\t\t\t</attrdomv>\n",
      "\t\t\t\t</attr>\n",
      "\t\t\t\t<attr>\n",
      "\t\t\t\t\t<attrlabl>LAT</attrlabl>\n",
      "\t\t\t\t\t<attrdef>Latitude, WGS-84</attrdef>\n",
      "\t\t\t\t\t<attrdefs>Aeroquest Limited</attrdefs>\n",
      "\t\t\t\t\t<attrdomv>\n",
      "\t\t\t\t\t\t<rdom>\n",
      "\t\t\t\t\t\t\t<rdommin>38.028616</rdommin>\n",
      "\t\t\t\t\t\t\t<rdommax>38.5850169</rdommax>\n",
      "\t\t\t\t\t\t\t<attrunit>deg</attrunit>\n",
      "\t\t\t\t\t\t</rdom>\n",
      "\t\t\t\t\t\t</attrdomv>\n",
      "\t\t\t\t</attr>\n",
      "\t\t\t\t<attr>\n",
      "\t\t\t\t\t<attrlabl>LINE</attrlabl>\n",
      "\t\t\t\t\t<attrdef>Line number (xxxx.yy where xxxx is line number, yy is the segment number</attrdef>\n",
      "\t\t\t\t\t<attrdefs>Aeroquest Limited</attrdefs>\n",
      "\t\t\t\t\t<attrdomv>\n",
      "\t\t\t\t\t\t<rdom>\n",
      "\t\t\t\t\t\t\t<rdommin>101.0</rdommin>\n",
      "\t\t\t\t\t\t\t<rdommax>1411.0</rdommax>\n",
      "\t\t\t\t\t\t\t<attrunit>none</attrunit>\n",
      "\t\t\t\t\t\t</rdom>\n",
      "\t\t\t\t\t\t</attrdomv>\n",
      "\t\t\t\t</attr>\n",
      "\t\t\t\t<attr>\n",
      "\t\t\t\t\t<attrlabl>LONG</attrlabl>\n",
      "\t\t\t\t\t<attrdef>Longitude, WGS-84</attrdef>\n",
      "\t\t\t\t\t<attrdefs>Aeroquest Limited</attrdefs>\n",
      "\t\t\t\t\t<attrdomv>\n",
      "\t\t\t\t\t\t<rdom>\n",
      "\t\t\t\t\t\t\t<rdommin>-105.6283712</rdommin>\n",
      "\t\t\t\t\t\t\t<rdommax>-105.1235001</rdommax>\n",
      "\t\t\t\t\t\t\t<attrunit>deg</attrunit>\n",
      "\t\t\t\t\t\t</rdom>\n",
      "\t\t\t\t\t\t</attrdomv>\n",
      "\t\t\t\t</attr>\n",
      "\t\t\t\t<attr>\n",
      "\t\t\t\t\t<attrlabl>MAGCOMP</attrlabl>\n",
      "\t\t\t\t\t<attrdef>Compensated airborne magnetic field</attrdef>\n",
      "\t\t\t\t\t<attrdefs>Aeroquest Limited</attrdefs>\n",
      "\t\t\t\t\t<attrdomv>\n",
      "\t\t\t\t\t\t<rdom>\n",
      "\t\t\t\t\t\t\t<rdommin>49833.207</rdommin>\n",
      "\t\t\t\t\t\t\t<rdommax>55320.127</rdommax>\n",
      "\t\t\t\t\t\t\t<attrunit>nT</attrunit>\n",
      "\t\t\t\t\t\t</rdom>\n",
      "\t\t\t\t\t\t</attrdomv>\n",
      "\t\t\t\t</attr>\n",
      "\t\t\t\t<attr>\n",
      "\t\t\t\t\t<attrlabl>MAGDC</attrlabl>\n",
      "\t\t\t\t\t<attrdef>Diurnal and Lag corrected airborne magnetic field</attrdef>\n",
      "\t\t\t\t\t<attrdefs>Aeroquest Limited</attrdefs>\n",
      "\t\t\t\t\t<attrdomv>\n",
      "\t\t\t\t\t\t<rdom>\n",
      "\t\t\t\t\t\t\t<rdommin>49834.889</rdommin>\n",
      "\t\t\t\t\t\t\t<rdommax>55308.71</rdommax>\n",
      "\t\t\t\t\t\t\t<attrunit>nT</attrunit>\n",
      "\t\t\t\t\t\t</rdom>\n",
      "\t\t\t\t\t\t</attrdomv>\n",
      "\t\t\t\t</attr>\n",
      "\t\t\t\t<attr>\n",
      "\t\t\t\t\t<attrlabl>MAGLAG</attrlabl>\n",
      "\t\t\t\t\t<attrdef>Lag corrected Compensated airborne magnetic field</attrdef>\n",
      "\t\t\t\t\t<attrdefs>Aeroquest Limited</attrdefs>\n",
      "\t\t\t\t\t<attrdomv>\n",
      "\t\t\t\t\t\t<rdom>\n",
      "\t\t\t\t\t\t\t<rdommin>49833.231</rdommin>\n",
      "\t\t\t\t\t\t\t<rdommax>55320.059</rdommax>\n",
      "\t\t\t\t\t\t\t<attrunit>nT</attrunit>\n",
      "\t\t\t\t\t\t</rdom>\n",
      "\t\t\t\t\t\t</attrdomv>\n",
      "\t\t\t\t</attr>\n",
      "\t\t\t\t<attr>\n",
      "\t\t\t\t\t<attrlabl>MAGLEV</attrlabl>\n",
      "\t\t\t\t\t<attrdef>Levelled airborne magnetic field</attrdef>\n",
      "\t\t\t\t\t<attrdefs>Aeroquest Limited</attrdefs>\n",
      "\t\t\t\t\t<attrdomv>\n",
      "\t\t\t\t\t\t<rdom>\n",
      "\t\t\t\t\t\t\t<rdommin>49834.509</rdommin>\n",
      "\t\t\t\t\t\t\t<rdommax>55300.803</rdommax>\n",
      "\t\t\t\t\t\t\t<attrunit>nT</attrunit>\n",
      "\t\t\t\t\t\t</rdom>\n",
      "\t\t\t\t\t\t</attrdomv>\n",
      "\t\t\t\t</attr>\n",
      "\t\t\t\t<attr>\n",
      "\t\t\t\t\t<attrlabl>MAGLEVCOR</attrlabl>\n",
      "\t\t\t\t\t<attrdef>Tie-line Levelling Corrections to Magnetic Field</attrdef>\n",
      "\t\t\t\t\t<attrdefs>Aeroquest Limited</attrdefs>\n",
      "\t\t\t\t\t<attrdomv>\n",
      "\t\t\t\t\t\t<rdom>\n",
      "\t\t\t\t\t\t\t<rdommin>-365.088</rdommin>\n",
      "\t\t\t\t\t\t\t<rdommax>822.018</rdommax>\n",
      "\t\t\t\t\t\t\t<attrunit>nT</attrunit>\n",
      "\t\t\t\t\t\t</rdom>\n",
      "\t\t\t\t\t\t</attrdomv>\n",
      "\t\t\t\t</attr>\n",
      "\t\t\t\t<attr>\n",
      "\t\t\t\t\t<attrlabl>MAGMLEV</attrlabl>\n",
      "\t\t\t\t\t<attrdef>Microlevelled airborne magnetic field</attrdef>\n",
      "\t\t\t\t\t<attrdefs>Aeroquest Limited</attrdefs>\n",
      "\t\t\t\t\t<attrdomv>\n",
      "\t\t\t\t\t\t<rdom>\n",
      "\t\t\t\t\t\t\t<rdommin>49835.771</rdommin>\n",
      "\t\t\t\t\t\t\t<rdommax>55299.753</rdommax>\n",
      "\t\t\t\t\t\t\t<attrunit>nT</attrunit>\n",
      "\t\t\t\t\t\t</rdom>\n",
      "\t\t\t\t\t\t</attrdomv>\n",
      "\t\t\t\t</attr>\n",
      "\t\t\t\t<attr>\n",
      "\t\t\t\t\t<attrlabl>MAGMLEVCOR</attrlabl>\n",
      "\t\t\t\t\t<attrdef>Microlevelling corrections to Magnetic Field</attrdef>\n",
      "\t\t\t\t\t<attrdefs>Aeroquest Limited</attrdefs>\n",
      "\t\t\t\t\t<attrdomv>\n",
      "\t\t\t\t\t\t<rdom>\n",
      "\t\t\t\t\t\t\t<rdommin>-2.734</rdommin>\n",
      "\t\t\t\t\t\t\t<rdommax>2.071</rdommax>\n",
      "\t\t\t\t\t\t\t<attrunit>nT</attrunit>\n",
      "\t\t\t\t\t\t</rdom>\n",
      "\t\t\t\t\t\t</attrdomv>\n",
      "\t\t\t\t</attr>\n",
      "\t\t\t\t<attr>\n",
      "\t\t\t\t\t<attrlabl>MAGUC</attrlabl>\n",
      "\t\t\t\t\t<attrdef>Uncompensated airborne magnetic field</attrdef>\n",
      "\t\t\t\t\t<attrdefs>Aeroquest Limited</attrdefs>\n",
      "\t\t\t\t\t<attrdomv>\n",
      "\t\t\t\t\t\t<rdom>\n",
      "\t\t\t\t\t\t\t<rdommin>49832.133</rdommin>\n",
      "\t\t\t\t\t\t\t<rdommax>55311.553</rdommax>\n",
      "\t\t\t\t\t\t\t<attrunit>nT</attrunit>\n",
      "\t\t\t\t\t\t</rdom>\n",
      "\t\t\t\t\t\t</attrdomv>\n",
      "\t\t\t\t</attr>\n",
      "\t\t\t\t<attr>\n",
      "\t\t\t\t\t<attrlabl>MSL_Z</attrlabl>\n",
      "\t\t\t\t\t<attrdef>GPS elevation (above EGM2008 geoid)</attrdef>\n",
      "\t\t\t\t\t<attrdefs>Aeroquest Limited</attrdefs>\n",
      "\t\t\t\t\t<attrdomv>\n",
      "\t\t\t\t\t\t<rdom>\n",
      "\t\t\t\t\t\t\t<rdommin>1820.05</rdommin>\n",
      "\t\t\t\t\t\t\t<rdommax>3623.98</rdommax>\n",
      "\t\t\t\t\t\t\t<attrunit>m</attrunit>\n",
      "\t\t\t\t\t\t</rdom>\n",
      "\t\t\t\t\t\t</attrdomv>\n",
      "\t\t\t\t</attr>\n",
      "\t\t\t\t<attr>\n",
      "\t\t\t\t\t<attrlabl>RADAR</attrlabl>\n",
      "\t\t\t\t\t<attrdef>radar altimeter</attrdef>\n",
      "\t\t\t\t\t<attrdefs>Aeroquest Limited</attrdefs>\n",
      "\t\t\t\t\t<attrdomv>\n",
      "\t\t\t\t\t\t<rdom>\n",
      "\t\t\t\t\t\t\t<rdommin>48.18</rdommin>\n",
      "\t\t\t\t\t\t\t<rdommax>533.23</rdommax>\n",
      "\t\t\t\t\t\t\t<attrunit>m</attrunit>\n",
      "\t\t\t\t\t\t</rdom>\n",
      "\t\t\t\t\t\t</attrdomv>\n",
      "\t\t\t\t</attr>\n",
      "\t\t\t\t<attr>\n",
      "\t\t\t\t\t<attrlabl>TER</attrlabl>\n",
      "\t\t\t\t\t<attrdef>Terrain generated from laser and GPS data, wrt the EGM2008 geoid, mean sea level reference</attrdef>\n",
      "\t\t\t\t\t<attrdefs>Aeroquest Limited</attrdefs>\n",
      "\t\t\t\t\t<attrdomv>\n",
      "\t\t\t\t\t\t<rdom>\n",
      "\t\t\t\t\t\t\t<rdommin>1641.53</rdommin>\n",
      "\t\t\t\t\t\t\t<rdommax>3519.54</rdommax>\n",
      "\t\t\t\t\t\t\t<attrunit>m</attrunit>\n",
      "\t\t\t\t\t\t</rdom>\n",
      "\t\t\t\t\t\t</attrdomv>\n",
      "\t\t\t\t</attr>\n",
      "\t\t\t\t<attr>\n",
      "\t\t\t\t\t<attrlabl>YEAR</attrlabl>\n",
      "\t\t\t\t\t<attrdef>Year</attrdef>\n",
      "\t\t\t\t\t<attrdefs>Aeroquest Limited</attrdefs>\n",
      "\t\t\t\t\t<attrdomv>\n",
      "\t\t\t\t\t\t<rdom>\n",
      "\t\t\t\t\t\t\t<rdommin>2021</rdommin>\n",
      "\t\t\t\t\t\t\t<rdommax>2021</rdommax>\n",
      "\t\t\t\t\t\t\t<attrunit>none</attrunit>\n",
      "\t\t\t\t\t\t</rdom>\n",
      "\t\t\t\t\t\t</attrdomv>\n",
      "\t\t\t\t</attr>\n",
      "\t\t</detailed>\n",
      "\n"
     ]
    }
   ],
   "source": [
    "#Create Entity and Attribute Text - substitute vales below with definitions from contractors report:\n",
    "# EandA Channel Templates for the magnetic data are available at the following link to a shared Jupyter Notebook\n",
    "# https://github.com/pbrown-usgs/SquamataAeroMag/blob/master/SquamataAeroMagEntityAndAttributeArchive.ipynb\n",
    "\n",
    "#Create Entity and Attribute Text FOR MAG:\n",
    "csvAttributes = ''\n",
    "csvEntityDescription = []\n",
    "csvEntityUnit = []\n",
    "csvMax = []\n",
    "csvMin = []\n",
    "#=======================================================================================================================\n",
    "# Add entity type and detailed tags\n",
    "# Below is the entity type description for the Down-Raw spectrum waveforms\n",
    "entAttText = '\\n\\t\\t<detailed>\\n\\t\\t\\t<enttyp>\\n\\t\\t\\t\\t<enttypl>' + magCSVfileName + '</enttypl>\\n' \\\n",
    "  + '\\t\\t\\t\\t<enttypd>Table containing attribute information associated with the magnetic data set.</enttypd>' \\\n",
    "  + '\\n\\t\\t\\t\\t<enttypds>U.S. Geological Survey</enttypds>\\n\\t\\t\\t</enttyp>'\n",
    "\n",
    "##-----------------Start EandA here\n",
    "csvEntityDescription.append(\"Anomalous Magnetic field, IGRF corrected\")#AMF\n",
    "csvEntityUnit.append(\"nT\")#AMF\n",
    "#=======================================================================================================================\n",
    "csvEntityDescription.append(\"Flight line direction\")#DIR\n",
    "csvEntityUnit.append(\"none\")#DIR\n",
    "#=======================================================================================================================\n",
    "csvEntityDescription.append(\"Diurnal magnetic field from reference station\")#DIURNAL\n",
    "csvEntityUnit.append(\"nT\")#DIURNAL\n",
    "#=======================================================================================================================\n",
    "csvEntityDescription.append(\"Day of the year\")#DOY\n",
    "csvEntityUnit.append(\"none\")#DOY\n",
    "#=======================================================================================================================\n",
    "csvEntityDescription.append(\"Drape Target Height Surface (above NAD-83 Ellipsoid)\")#DRAPE_N83\n",
    "csvEntityUnit.append(\"m\")#DRAPE_N83\n",
    "#=======================================================================================================================\n",
    "csvEntityDescription.append(\"Flight number\")#FLT\n",
    "csvEntityUnit.append(\"none\")#FLT\n",
    "#=======================================================================================================================\n",
    "csvEntityDescription.append(\"Fiducial Seconds Past Midnight UTC\")#FTIME\n",
    "csvEntityUnit.append(\"s\")#FTIME\n",
    "#=======================================================================================================================\n",
    "csvEntityDescription.append(\"X coordinate, NAD-83, UTM zone 13N\")#GPS_X_N83\n",
    "csvEntityUnit.append(\"m\")#GPS_X_N83\n",
    "#=======================================================================================================================\n",
    "csvEntityDescription.append(\"X coordinate, WGS-84, UTM zone 13N\")#GPS_X_W84\n",
    "csvEntityUnit.append(\"m\")#GPS_X_W84\n",
    "#=======================================================================================================================\n",
    "csvEntityDescription.append(\"Y coordinate, NAD-83, UTM zone 13N\")#GPS_Y_N83\n",
    "csvEntityUnit.append(\"m\")#GPS_Y_N83\n",
    "#=======================================================================================================================\n",
    "csvEntityDescription.append(\"Y coordinate, WGS-84, UTM zone 13N\")#GPS_Y_W84\n",
    "csvEntityUnit.append(\"m\")#GPS_Y_W84\n",
    "#=======================================================================================================================\n",
    "csvEntityDescription.append(\"GPS elevation (above NAD-83 ellipsoid)\")#GPS_Z_N83\n",
    "csvEntityUnit.append(\"m\")#GPS_Z_N83\n",
    "#=======================================================================================================================\n",
    "csvEntityDescription.append(\"GPS elevation (above WGS-84 ellipsoid)\")#GPS_Z_W84\n",
    "csvEntityUnit.append(\"m\")#GPS_Z_W84\n",
    "#=======================================================================================================================\n",
    "csvEntityDescription.append(\"IGRF correction\")#IGRF\n",
    "csvEntityUnit.append(\"nT\")#IGRF\n",
    "#=======================================================================================================================\n",
    "csvEntityDescription.append(\"IGRF Reference Surface, elevation with respect to the WGS-84 ellipsoid\")#IGRF_REF\n",
    "csvEntityUnit.append(\"nT\")#IGRF_REF\n",
    "#=======================================================================================================================\n",
    "csvEntityDescription.append(\"laser altimeter\")#LASER\n",
    "csvEntityUnit.append(\"m\")#LASER\n",
    "#=======================================================================================================================\n",
    "csvEntityDescription.append(\"Latitude, WGS-84\")#LAT\n",
    "csvEntityUnit.append(\"deg\")#LAT\n",
    "#=======================================================================================================================\n",
    "csvEntityDescription.append(\"Line number (xxxx.yy where xxxx is line number, yy is the segment number)\")#LINE\n",
    "csvEntityUnit.append(\"none\")#LINE\n",
    "#=======================================================================================================================\n",
    "csvEntityDescription.append(\"Longitude, WGS-84\")#LONG\n",
    "csvEntityUnit.append(\"deg\")#LONG\n",
    "#=======================================================================================================================\n",
    "csvEntityDescription.append(\"Compensated airborne magnetic field\")#MAGCOMP\n",
    "csvEntityUnit.append(\"nT\")#MAGCOMP\n",
    "#=======================================================================================================================\n",
    "csvEntityDescription.append(\"Diurnal and Lag corrected airborne magnetic field\")#MAGDC\n",
    "csvEntityUnit.append(\"nT\")#MAGDC\n",
    "#=======================================================================================================================\n",
    "csvEntityDescription.append(\"Lag corrected Compensated airborne magnetic field\")#MAGLAG\n",
    "csvEntityUnit.append(\"nT\")#MAGLAG\n",
    "#=======================================================================================================================\n",
    "csvEntityDescription.append(\"Levelled airborne magnetic field\")#MAGLEV\n",
    "csvEntityUnit.append(\"nT\")#MAGLEV\n",
    "#=======================================================================================================================\n",
    "csvEntityDescription.append(\"Tie-line Levelling Corrections to Magnetic Field\")#MAGLEVCOR\n",
    "csvEntityUnit.append(\"nT\")#MAGLEVCOR\n",
    "#=======================================================================================================================\n",
    "csvEntityDescription.append(\"Microlevelled airborne magnetic field\")#MAGMLEV\n",
    "csvEntityUnit.append(\"nT\")#MAGMLEV\n",
    "#=======================================================================================================================\n",
    "csvEntityDescription.append(\"Microlevelling corrections to Magnetic Field\")#MAGMLEVCOR\n",
    "csvEntityUnit.append(\"nT\")#MAGMLEVCOR\n",
    "#=======================================================================================================================\n",
    "csvEntityDescription.append(\"Uncompensated airborne magnetic field\")#MAGUC\n",
    "csvEntityUnit.append(\"nT\")#MAGUC\n",
    "#=======================================================================================================================\n",
    "csvEntityDescription.append(\"GPS elevation (above EGM2008 geoid)\")#MSL_Z\n",
    "csvEntityUnit.append(\"m\")#MSL_Z\n",
    "#=======================================================================================================================\n",
    "csvEntityDescription.append(\"radar altimeter\")#RADAR\n",
    "csvEntityUnit.append(\"m\")#RADAR\n",
    "#=======================================================================================================================\n",
    "csvEntityDescription.append(\"Terrain generated from laser and GPS data, wrt the EGM2008 geoid, mean sea level reference\")#TER\n",
    "csvEntityUnit.append(\"m\")#TER\n",
    "#=======================================================================================================================\n",
    "csvEntityDescription.append(\"Year\")#YEAR\n",
    "csvEntityUnit.append(\"none\")#YEAR\n",
    "##-----------------End EandA here\n",
    "\n",
    "#Now get a min and max value for all columns\n",
    "\n",
    "csvHeaderListLength = len(csvEntityDescription)\n",
    "#print ('Length of Entity Description Array: ' + str(len(csvEntityDescription)))\n",
    "#print ('Length of Header List: ' + str(len(magHeaderList)))\n",
    "\n",
    "for i in range(csvHeaderListLength): #csvHeaderListLength\n",
    " print (magHeaderList[i] + ': ' + str(i))\n",
    " strCol = magHeaderList[i]\n",
    " csvMax.append(magDataFrame[strCol].max())\n",
    " csvMin.append(magDataFrame[strCol].min())\n",
    " print ('Max. Value ' + magHeaderList[i] + ' :' + str(csvMax[i]))\n",
    " print ('Min. Value ' + magHeaderList[i] + ' :' + str(csvMin[i]))\n",
    " print ('Entt Desc. ' + csvEntityDescription[i])\n",
    " print ('Att Unit ' + csvEntityUnit[i] + '\\n')\n",
    " entAtti = '\\n\\t\\t\\t\\t<attr>\\n\\t\\t\\t\\t\\t<attrlabl>' + strCol + '</attrlabl>\\n' \\\n",
    "        + '\\t\\t\\t\\t\\t<attrdef>' + csvEntityDescription[i] + '</attrdef>' \\\n",
    "        + '\\n\\t\\t\\t\\t\\t<attrdefs>Sander Geophysics Limited</attrdefs>' \\\n",
    "        + '\\n\\t\\t\\t\\t\\t<attrdomv>\\n\\t\\t\\t\\t\\t\\t<rdom>\\n\\t\\t\\t\\t\\t\\t\\t<rdommin>'+ str(csvMin[i]) + '</rdommin>\\n\\t\\t\\t\\t\\t\\t\\t<rdommax>' \\\n",
    "        + str(csvMax[i]) + '</rdommax>\\n\\t\\t\\t\\t\\t\\t\\t' + '<attrunit>' + csvEntityUnit[i] + '</attrunit>\\n\\t\\t\\t\\t\\t\\t</rdom>\\n\\t\\t\\t\\t\\t\\t' \\\n",
    "        + '</attrdomv>\\n' \\\n",
    "        + '\\t\\t\\t\\t</attr>'\n",
    " entAttText = entAttText + entAtti\n",
    "    \n",
    "entAttText = entAttText  + '\\n\\t\\t</detailed>\\n' \n",
    "\n",
    "csvAttributes = entAttText\n",
    "\n",
    "print ('\\nEntity and Attribute Text:\\n' + csvAttributes)"
   ]
  },
  {
   "cell_type": "code",
   "execution_count": 95,
   "metadata": {},
   "outputs": [
    {
     "data": {
      "text/plain": [
       "['LineData_AirborneMagneticAndRadiometricSurveyWetMountainsSouthCentralColorado2021.csv',\n",
       " 'RTPMag_AirborneMagneticAndRadiometricSurveyWetMountainsSouthCentralColorado2021.tfw',\n",
       " 'RTPMag_AirborneMagneticAndRadiometricSurveyWetMountainsSouthCentralColorado2021.tif',\n",
       " 'RTPMag_AirborneMagneticAndRadiometricSurveyWetMountainsSouthCentralColorado2021.tif.aux.xml',\n",
       " 'RTPMag_AirborneMagneticAndRadiometricSurveyWetMountainsSouthCentralColorado2021.tif.ovr']"
      ]
     },
     "execution_count": 95,
     "metadata": {},
     "output_type": "execute_result"
    }
   ],
   "source": [
    "#strip Tabs from string\n",
    "stripFileListing = fileListing.replace('\\t', '')\n",
    "#Create array of values by splitting on line return \\n\n",
    "arrayFileListing = stripFileListing.splitlines()\n",
    "#arrayFileListing[0] = 'USA_Northwest-Arkansas-Airborne-Survey-2019-2020_GeoreferencedRaster_TMFI.tif'\n",
    "arrayFileListing"
   ]
  },
  {
   "cell_type": "markdown",
   "metadata": {},
   "source": [
    "# Now lets create Entity and Attributes for the rest of the files that don't require listing the min/max for the domains."
   ]
  },
  {
   "cell_type": "code",
   "execution_count": 97,
   "metadata": {
    "scrolled": true
   },
   "outputs": [
    {
     "name": "stdout",
     "output_type": "stream",
     "text": [
      "\t\t<detailed>\n",
      "\t\t\t<enttyp>\n",
      "\t\t\t\t<enttypl>RTPMag_AirborneMagneticAndRadiometricSurveyWetMountainsSouthCentralColorado2021.tif</enttypl>\n",
      "\t\t\t\t<enttypd>3-band raster geospatial data file of the aeromagnetic data.</enttypd>\n",
      "\t\t\t\t<enttypds>U.S. Geological Survey</enttypds>\n",
      "\t\t\t</enttyp>\n",
      "\t\t\t<attr>\n",
      "\t\t\t\t<attrlabl>Value</attrlabl>\n",
      "\t\t\t\t<attrdef>Unique numeric values contained in each raster cell.</attrdef>\n",
      "\t\t\t\t<attrdefs>U.S. Geological Survey</attrdefs>\n",
      "\t\t\t\t<attrdomv>\n",
      "\t\t\t\t\t<rdom>\n",
      "\t\t\t\t\t\t<rdommin>0</rdommin>\n",
      "\t\t\t\t\t\t<rdommax>255</rdommax>\n",
      "\t\t\t\t\t</rdom>\n",
      "\t\t\t\t</attrdomv>\n",
      "\t\t\t</attr>\n",
      "\t\t</detailed>\n",
      "\t\t<detailed>\n",
      "\t\t\t<enttyp>\n",
      "\t\t\t\t<enttypl>RTPMag_AirborneMagneticAndRadiometricSurveyWetMountainsSouthCentralColorado2021.tif.aux.xml</enttypl>\n",
      "\t\t\t\t<enttypd>3-band raster geospatial data file of the aeromagnetic data.</enttypd>\n",
      "\t\t\t\t<enttypds>U.S. Geological Survey</enttypds>\n",
      "\t\t\t</enttyp>\n",
      "\t\t\t<attr>\n",
      "\t\t\t\t<attrlabl>Value</attrlabl>\n",
      "\t\t\t\t<attrdef>Unique numeric values contained in each raster cell.</attrdef>\n",
      "\t\t\t\t<attrdefs>U.S. Geological Survey</attrdefs>\n",
      "\t\t\t\t<attrdomv>\n",
      "\t\t\t\t\t<rdom>\n",
      "\t\t\t\t\t\t<rdommin>0</rdommin>\n",
      "\t\t\t\t\t\t<rdommax>255</rdommax>\n",
      "\t\t\t\t\t</rdom>\n",
      "\t\t\t\t</attrdomv>\n",
      "\t\t\t</attr>\n",
      "\t\t</detailed>\n",
      "\t\t<detailed>\n",
      "\t\t\t<enttyp>\n",
      "\t\t\t\t<enttypl>RTPMag_AirborneMagneticAndRadiometricSurveyWetMountainsSouthCentralColorado2021.tif.ovr</enttypl>\n",
      "\t\t\t\t<enttypd>3-band raster geospatial data file of the aeromagnetic data.</enttypd>\n",
      "\t\t\t\t<enttypds>U.S. Geological Survey</enttypds>\n",
      "\t\t\t</enttyp>\n",
      "\t\t\t<attr>\n",
      "\t\t\t\t<attrlabl>Value</attrlabl>\n",
      "\t\t\t\t<attrdef>Unique numeric values contained in each raster cell.</attrdef>\n",
      "\t\t\t\t<attrdefs>U.S. Geological Survey</attrdefs>\n",
      "\t\t\t\t<attrdomv>\n",
      "\t\t\t\t\t<rdom>\n",
      "\t\t\t\t\t\t<rdommin>0</rdommin>\n",
      "\t\t\t\t\t\t<rdommax>255</rdommax>\n",
      "\t\t\t\t\t</rdom>\n",
      "\t\t\t\t</attrdomv>\n",
      "\t\t\t</attr>\n",
      "\t\t</detailed>\n",
      "\n"
     ]
    }
   ],
   "source": [
    "# Create the Entity and Attributes for the other files being released besides the *.CSV data file\n",
    "bFilesEntAttText = ''\n",
    "bFilesEandA = ''\n",
    "for i in range(len(arrayFileListing)):\n",
    "    if arrayFileListing[i].find('.tif') != -1:\n",
    "        bFilesEandA = bFilesEandA + '\\t\\t<detailed>\\n\\t\\t\\t<enttyp>\\n\\t\\t\\t\\t<enttypl>' + arrayFileListing[i] + '</enttypl>\\n' \\\n",
    "            + '\\t\\t\\t\\t<enttypd>3-band raster geospatial data file of the aeromagnetic data.</enttypd>' \\\n",
    "            + '\\n\\t\\t\\t\\t<enttypds>U.S. Geological Survey</enttypds>\\n\\t\\t\\t</enttyp>' \\\n",
    "            + '\\n\\t\\t\\t<attr>\\n\\t\\t\\t\\t<attrlabl>Value</attrlabl>' \\\n",
    "            + '\\n\\t\\t\\t\\t<attrdef>Unique numeric values contained in each raster cell.</attrdef>\\n\\t\\t\\t\\t<attrdefs>U.S. Geological Survey</attrdefs>\\n\\t\\t\\t\\t<attrdomv>'\\\n",
    "            + '\\n\\t\\t\\t\\t\\t<rdom>\\n\\t\\t\\t\\t\\t\\t<rdommin>0</rdommin>\\n\\t\\t\\t\\t\\t\\t<rdommax>255</rdommax>'\\\n",
    "            + '\\n\\t\\t\\t\\t\\t</rdom>\\n\\t\\t\\t\\t</attrdomv>' \\\n",
    "            + '\\n\\t\\t\\t</attr>\\n\\t\\t</detailed>\\n' \n",
    "    if arrayFileListing[i].find('.rtf') != -1:\n",
    "        bFilesEandA = bFilesEandA + '\\t\\t<detailed>\\n\\t\\t\\t<enttyp>\\n\\t\\t\\t\\t<enttypl>Rich Text File ' + arrayFileListing[i] + '</enttypl>\\n' \\\n",
    "            + '\\t\\t\\t\\t<enttypd>ReadMe file in Rich Text Format containing *.CSV file entities, attributes, and processing notes</enttypd>' \\\n",
    "            + '\\n\\t\\t\\t\\t<enttypds>EON Geosciences, Montreal, Quebec, Canada: Airborne geophysical contractor for the U.S. Geological Survey.</enttypds>\\n\\t\\t\\t</enttyp>' \\\n",
    "            + '\\n\\t\\t\\t<attr>\\n\\t\\t\\t\\t<attrlabl>Rich Text File</attrlabl>\\n\\t\\t\\t\\t<attrdef>ReadMe file in Rich Text Format (RTF) containing *.CSV file entities, attributes, and processing notes</attrdef>\\n\\t\\t\\t\\t<attrdefs>EON Geosciences, Montreal, Quebec, Canada: Airborne geophysical contractor for the U.S. Geological Survey.</attrdefs>\\n\\t\\t\\t\\t<attrdomv>'\\\n",
    "            + '\\n\\t\\t\\t\\t\\t<udom>ReadMe file in Rich Text Format containing *.CSV file entities, attributes, and processing notes</udom>\\n\\t\\t\\t\\t</attrdomv>' \\\n",
    "            + '\\n\\t\\t\\t</attr>\\n\\t\\t</detailed>\\n'\n",
    "    if arrayFileListing[i].find('.gdd') != -1:\n",
    "        bFilesEandA = bFilesEandA + '\\t\\t<detailed>\\n\\t\\t\\t<enttyp>\\n\\t\\t\\t\\t<enttypl>Binary File ' + arrayFileListing[i] + '</enttypl>\\n' \\\n",
    "            + '\\t\\t\\t\\t<enttypd>Binary data base file in Geosoft (https://www.geosoft.com) Oasis montaj gdb format. For more information on reading gdb files using publicly available Python tools visit, https://github.com/GeosoftInc/gxpy.</enttypd>' \\\n",
    "            + '\\n\\t\\t\\t\\t<enttypds>Geosoft Inc., Toronto, ON Canada</enttypds>\\n\\t\\t\\t</enttyp>' \\\n",
    "            + '\\n\\t\\t\\t<attr>\\n\\t\\t\\t\\t<attrlabl>Binary data base file</attrlabl>\\n\\t\\t\\t\\t<attrdef>Binary data base file described in contractor report.</attrdef>\\n\\t\\t\\t\\t<attrdefs>Aeroquest Limited.</attrdefs>\\n\\t\\t\\t\\t<attrdomv>'\\\n",
    "            + '\\n\\t\\t\\t\\t\\t<udom>Binary Data Base File described in contractor report.</udom>\\n\\t\\t\\t\\t</attrdomv>' \\\n",
    "            + '\\n\\t\\t\\t</attr>\\n\\t\\t</detailed>\\n'\n",
    "            \n",
    "    if arrayFileListing[i].find('.sml') != -1:\n",
    "        bFilesEandA = bFilesEandA + '\\t\\t<detailed>\\n\\t\\t\\t<enttyp>\\n\\t\\t\\t\\t<enttypl>ASCII XML File ' + arrayFileListing[i] + '</enttypl>\\n' \\\n",
    "            + '\\t\\t\\t\\t<enttypd>ASCII text XML formatted metadata file describing the data base file of the same name.  A free viewer is available for GRD files from Geosoft, visit https://www.geosoft.com/products/geosoft-viewer</enttypd>' \\\n",
    "            + '\\n\\t\\t\\t\\t<enttypds>Geosoft Inc., Toronto, ON Canada</enttypds>\\n\\t\\t\\t</enttyp>' \\\n",
    "            + '\\n\\t\\t\\t<attr>\\n\\t\\t\\t\\t<attrlabl>ASCII XML formatted text file</attrlabl>\\n\\t\\t\\t\\t<attrdef>ASCII XML formatted text file containing metadata describing the Geosoft data base file of the same name</attrdef>\\n\\t\\t\\t\\t<attrdefs>EON Geosciences, Montreal, Quebec, Canada: Airborne geophysical contractor for the U.S. Geological Survey.</attrdefs>\\n\\t\\t\\t\\t<attrdomv>'\\\n",
    "            + '\\n\\t\\t\\t\\t\\t<udom>ASCII XML formatted text file containing metadata describing the Geosoft data base file of the same name</udom>\\n\\t\\t\\t\\t</attrdomv>' \\\n",
    "            + '\\n\\t\\t\\t</attr>\\n\\t\\t</detailed>\\n'\n",
    "            \n",
    "    if arrayFileListing[i].find('.gxf') != -1:\n",
    "        bFilesEandA = bFilesEandA + '\\t\\t<detailed>\\n\\t\\t\\t<enttyp>\\n\\t\\t\\t\\t<enttypl>ASCII Grid File ' + arrayFileListing[i] + '</enttypl>\\n' \\\n",
    "            + '\\t\\t\\t\\t<enttypd>ASCII grid file in Geosoft (https://www.geosoft.com) Grid Exchange Format, GXF (https://www.geosoft.com/media/uploads/resources/technical-notes/gxfr3d9_1.pdf) </enttypd>' \\\n",
    "            + '\\n\\t\\t\\t\\t<enttypds>Geosoft Inc., Toronto, ON Canada</enttypds>\\n\\t\\t\\t</enttyp>' \\\n",
    "            + '\\n\\t\\t\\t<attr>\\n\\t\\t\\t\\t<attrlabl>ASCII Grid File</attrlabl>\\n\\t\\t\\t\\t<attrdef>ASCII grid file in GXF format described in contractor report and ReadMe file, WGS84 UTM Zone 13N</attrdef>\\n\\t\\t\\t\\t<attrdefs>Aeroquest Limited.</attrdefs>\\n'\\\n",
    "            + '\\t\\t\\t\\t<attrdomv>\\n\\t\\t\\t\\t\\t<udom>ASCII Grid File described in contractor report and ReadMe file, WGS84 UTM Zone 13N</udom>\\n\\t\\t\\t\\t</attrdomv>' \\\n",
    "            + '\\n\\t\\t\\t</attr>\\n\\t\\t</detailed>\\n'\n",
    "    \n",
    "    if arrayFileListing[i].find('.grd') != -1:\n",
    "        bFilesEandA = bFilesEandA + '\\t\\t<detailed>\\n\\t\\t\\t<enttyp>\\n\\t\\t\\t\\t<enttypl>Binary Grid File ' + arrayFileListing[i] + '</enttypl>\\n' \\\n",
    "            + '\\t\\t\\t\\t<enttypd>Binary grid file in Geosoft (https://www.geosoft.com) Oasis montaj GRD format.  A free viewer is available for GRD files from Geosoft, visit https://www.geosoft.com/products/geosoft-viewer</enttypd>' \\\n",
    "            + '\\n\\t\\t\\t\\t<enttypds>Geosoft Inc., Toronto, ON Canada</enttypds>\\n\\t\\t\\t</enttyp>' \\\n",
    "            + '\\n\\t\\t\\t<attr>\\n\\t\\t\\t\\t<attrlabl>Binary grid file</attrlabl>\\n\\t\\t\\t\\t<attrdef>Binary grid file described in contractor report and ReadMe file, WGS84 UTM Zone 13N</attrdef>\\n\\t\\t\\t\\t<attrdefs>EON Geosciences, Montreal, Quebec, Canada: Airborne geophysical contractor for the U.S. Geological Survey.</attrdefs>\\n'\\\n",
    "            + '\\t\\t\\t\\t<attrdomv>\\n\\t\\t\\t\\t\\t<udom>Binary Grid File described in contractor report and ReadMe file, WGS84 UTM Zone 13N</udom>\\n\\t\\t\\t\\t</attrdomv>' \\\n",
    "            + '\\n\\t\\t\\t</attr>\\n\\t\\t</detailed>\\n'\n",
    "    bFilesEntAttText = bFilesEandA\n",
    "\n",
    "print (bFilesEntAttText) \n"
   ]
  },
  {
   "cell_type": "code",
   "execution_count": 98,
   "metadata": {},
   "outputs": [
    {
     "data": {
      "text/plain": [
       "'\\t\\t<detailed>\\n\\t\\t\\t<enttyp>\\n\\t\\t\\t\\t<enttypl>RTPMag_AirborneMagneticAndRadiometricSurveyWetMountainsSouthCentralColorado2021.tif</enttypl>\\n\\t\\t\\t\\t<enttypd>3-band raster geospatial data file of the aeromagnetic data.</enttypd>\\n\\t\\t\\t\\t<enttypds>U.S. Geological Survey</enttypds>\\n\\t\\t\\t</enttyp>\\n\\t\\t\\t<attr>\\n\\t\\t\\t\\t<attrlabl>Value</attrlabl>\\n\\t\\t\\t\\t<attrdef>Unique numeric values contained in each raster cell.</attrdef>\\n\\t\\t\\t\\t<attrdefs>U.S. Geological Survey</attrdefs>\\n\\t\\t\\t\\t<attrdomv>\\n\\t\\t\\t\\t\\t<rdom>\\n\\t\\t\\t\\t\\t\\t<rdommin>0</rdommin>\\n\\t\\t\\t\\t\\t\\t<rdommax>255</rdommax>\\n\\t\\t\\t\\t\\t</rdom>\\n\\t\\t\\t\\t</attrdomv>\\n\\t\\t\\t</attr>\\n\\t\\t</detailed>\\n\\t\\t<detailed>\\n\\t\\t\\t<enttyp>\\n\\t\\t\\t\\t<enttypl>RTPMag_AirborneMagneticAndRadiometricSurveyWetMountainsSouthCentralColorado2021.tif.aux.xml</enttypl>\\n\\t\\t\\t\\t<enttypd>3-band raster geospatial data file of the aeromagnetic data.</enttypd>\\n\\t\\t\\t\\t<enttypds>U.S. Geological Survey</enttypds>\\n\\t\\t\\t</enttyp>\\n\\t\\t\\t<attr>\\n\\t\\t\\t\\t<attrlabl>Value</attrlabl>\\n\\t\\t\\t\\t<attrdef>Unique numeric values contained in each raster cell.</attrdef>\\n\\t\\t\\t\\t<attrdefs>U.S. Geological Survey</attrdefs>\\n\\t\\t\\t\\t<attrdomv>\\n\\t\\t\\t\\t\\t<rdom>\\n\\t\\t\\t\\t\\t\\t<rdommin>0</rdommin>\\n\\t\\t\\t\\t\\t\\t<rdommax>255</rdommax>\\n\\t\\t\\t\\t\\t</rdom>\\n\\t\\t\\t\\t</attrdomv>\\n\\t\\t\\t</attr>\\n\\t\\t</detailed>\\n\\t\\t<detailed>\\n\\t\\t\\t<enttyp>\\n\\t\\t\\t\\t<enttypl>RTPMag_AirborneMagneticAndRadiometricSurveyWetMountainsSouthCentralColorado2021.tif.ovr</enttypl>\\n\\t\\t\\t\\t<enttypd>3-band raster geospatial data file of the aeromagnetic data.</enttypd>\\n\\t\\t\\t\\t<enttypds>U.S. Geological Survey</enttypds>\\n\\t\\t\\t</enttyp>\\n\\t\\t\\t<attr>\\n\\t\\t\\t\\t<attrlabl>Value</attrlabl>\\n\\t\\t\\t\\t<attrdef>Unique numeric values contained in each raster cell.</attrdef>\\n\\t\\t\\t\\t<attrdefs>U.S. Geological Survey</attrdefs>\\n\\t\\t\\t\\t<attrdomv>\\n\\t\\t\\t\\t\\t<rdom>\\n\\t\\t\\t\\t\\t\\t<rdommin>0</rdommin>\\n\\t\\t\\t\\t\\t\\t<rdommax>255</rdommax>\\n\\t\\t\\t\\t\\t</rdom>\\n\\t\\t\\t\\t</attrdomv>\\n\\t\\t\\t</attr>\\n\\t\\t</detailed>\\n'"
      ]
     },
     "metadata": {},
     "output_type": "display_data"
    }
   ],
   "source": [
    "# Run this cell for key word text to edit.  \n",
    "# One can edit the text in place and these changes will be present in the created metadata.  \n",
    "# When complete move on to the next step\n",
    "\n",
    "display(bFilesEntAttText)"
   ]
  },
  {
   "cell_type": "code",
   "execution_count": 100,
   "metadata": {},
   "outputs": [
    {
     "name": "stdout",
     "output_type": "stream",
     "text": [
      "https://www.sciencebase.gov/catalog/item/62842420d34e3bef0c9a477f\n"
     ]
    }
   ],
   "source": [
    "#Enter the URL for the magnetic data child for this data release between single quotes below\n",
    "# https://doi.org/:10.5066/P98CW91W\n",
    "# https://www.sciencebase.gov/catalog/item/624736ded34e21f82762ef69\n",
    "#########################################################################################################################\n",
    "childURL = 'https://www.sciencebase.gov/catalog/item/62842420d34e3bef0c9a477f'\n",
    "doiURL = 'https://doi.org/10.5066/P9PISI0X'\n",
    "#########################################################################################################################\n",
    "resdesc = childURL\n",
    "print (childURL)"
   ]
  },
  {
   "cell_type": "code",
   "execution_count": 109,
   "metadata": {},
   "outputs": [
    {
     "name": "stdout",
     "output_type": "stream",
     "text": [
      "pngFilePath\n",
      "C:\\CurrentWork\\DataReleases\\IP-139145_WetMountains\\Uploads\\Parent\\ThumbnailMagRTP_AirborneMagneticAndRadiometricSurveyWetMountainsSouthCentralColorado2021.png\n"
     ]
    }
   ],
   "source": [
    "#Enter the png file name and path\n",
    "#########################################################################################################################\n",
    "pngFileName = 'ThumbnailMagRTP_AirborneMagneticAndRadiometricSurveyWetMountainsSouthCentralColorado2021.png'\n",
    "pngDirPath = r'C:\\CurrentWork\\DataReleases\\IP-139145_WetMountains\\Uploads\\Parent'\n",
    "#########################################################################################################################\n",
    "\n",
    "pngFilePath = pngDirPath + \"\\\\\" + pngFileName\n",
    "txtListFormatted = []\n",
    "txtListFormatted.append(pngFileName)#png file\n",
    "\n",
    "print('pngFilePath\\n' + pngFilePath)"
   ]
  },
  {
   "cell_type": "code",
   "execution_count": 112,
   "metadata": {},
   "outputs": [
    {
     "name": "stdout",
     "output_type": "stream",
     "text": [
      "\n"
     ]
    }
   ],
   "source": [
    "bFilesEntAttText = ''\n",
    "bFilesEandA = ''\n",
    "for i in range(len(arrayFileListing)):\n",
    "    if arrayFileListing[i].find('.pdf') != -1:\n",
    "        bFilesEandA = bFilesEandA + '\\t\\t<overview>\\n\\t\\t\\t<eaover>' + arrayFileListing[i] + ' is an Aeroquest Limited contractor report in Adobe Portable Document Format (PDF).  This report describes an aeromagnetic survey over the Western Upper Peninsula Area, Michigan for Kennecott Eagle Minerals Company.' + arrayFileListing[i] + ' describes the survey parameters, field operations, quality control results, and data reduction procedures used to produce the aeromagnetic data.</eaover> '\\\n",
    "            + '\\n\\t\\t\\t<eadetcit>' + doiURL + '</eadetcit>\\n\\t\\t</overview>\\n'\n",
    "    \n",
    "    if arrayFileListing[i].find('.gdb') != -1:\n",
    "        bFilesEandA = bFilesEandA + '\\t\\t<overview>\\n\\t\\t\\t<eaover>' + arrayFileListing[i] + ' is a Geosoft (https://www.geosoft.com) data base file in Oasis montaj proprietary binary gdb format. For more information on reading gdb files using publicly available Python tools visit, https://github.com/GeosoftInc/gxpy.' + arrayFileListing[i] + ' is described in the contractors report and has the same channels and data described in detail for the csv file also included with this data release. </eaover> '\\\n",
    "            + '\\n\\t\\t\\t<eadetcit>' + doiURL + '</eadetcit>\\n\\t\\t</overview>\\n'\n",
    "        \n",
    "    bFilesEntAttText = bFilesEandA\n",
    "print (bFilesEntAttText) "
   ]
  },
  {
   "cell_type": "markdown",
   "metadata": {},
   "source": [
    "# Now concatenate all the entity and attribute text\n"
   ]
  },
  {
   "cell_type": "code",
   "execution_count": 111,
   "metadata": {},
   "outputs": [
    {
     "ename": "NameError",
     "evalue": "name 'txtEandA' is not defined",
     "output_type": "error",
     "traceback": [
      "\u001b[1;31m---------------------------------------------------------------------------\u001b[0m",
      "\u001b[1;31mNameError\u001b[0m                                 Traceback (most recent call last)",
      "\u001b[1;32m~\\AppData\\Local\\Temp\\1/ipykernel_14068/4270757881.py\u001b[0m in \u001b[0;36m<module>\u001b[1;34m\u001b[0m\n\u001b[1;32m----> 1\u001b[1;33m \u001b[0meainfo\u001b[0m \u001b[1;33m=\u001b[0m \u001b[0mcsvAttributes\u001b[0m \u001b[1;33m+\u001b[0m \u001b[0mbFilesEntAttText\u001b[0m \u001b[1;33m+\u001b[0m \u001b[0mtxtEandA\u001b[0m\u001b[1;33m\u001b[0m\u001b[1;33m\u001b[0m\u001b[0m\n\u001b[0m\u001b[0;32m      2\u001b[0m \u001b[0meainfo\u001b[0m\u001b[1;33m\u001b[0m\u001b[1;33m\u001b[0m\u001b[0m\n",
      "\u001b[1;31mNameError\u001b[0m: name 'txtEandA' is not defined"
     ]
    }
   ],
   "source": [
    "eainfo = csvAttributes + bFilesEntAttText + txtEandA\n",
    "eainfo"
   ]
  },
  {
   "cell_type": "markdown",
   "metadata": {},
   "source": [
    "## Create the stdorder for all the non-extension (tiff) files "
   ]
  },
  {
   "cell_type": "code",
   "execution_count": 114,
   "metadata": {},
   "outputs": [
    {
     "name": "stdout",
     "output_type": "stream",
     "text": [
      "\t\t<stdorder>\n",
      "\t\t\t<digform>\n",
      "\t\t\t\t<digtinfo>\n",
      "\t\t\t\t\t<formname>JPG</formname>\n",
      "\t\t\t\t\t<formvern>1</formvern>\n",
      "\t\t\t\t\t<formspec>LineData_AirborneMagneticAndRadiometricSurveyWetMountainsSouthCentralColorado2021.csv</formspec>\n",
      "\t\t\t\t\t<formcont>J(oint) P(hotographic) E(xperts) Group (JPEG or JPG) raster image of Tok Alaska electromagnetic and magnetic airborne geophysical survey 2014 inverted resistivity models.</formcont>\n",
      "\t\t\t\t\t<filedec>No compression applied </filedec>\n",
      "\t\t\t\t\t<transize>2.035488</transize>\n",
      "\t\t\t\t</digtinfo>\n",
      "\t\t\t<digtopt>\n",
      "\t\t\t\t<onlinopt>\n",
      "\t\t\t\t\t<computer>\n",
      "\t\t\t\t\t\t<networka>\n",
      "\t\t\t\t\t\t\t<networkr>https://www.sciencebase.gov/catalog/item/623219c9d34ec9f19eeb418b</networkr>\n",
      "\t\t\t\t\t\t</networka>\n",
      "\t\t\t\t\t\t</computer>\n",
      "\t\t\t\t</onlinopt>\n",
      "\t\t\t</digtopt>\n",
      "\t\t</digform>\n",
      "\t\t\t<digform>\n",
      "\t\t\t\t<digtinfo>\n",
      "\t\t\t\t\t<formname>JPG</formname>\n",
      "\t\t\t\t\t<formvern>1</formvern>\n",
      "\t\t\t\t\t<formspec>RTPMag_AirborneMagneticAndRadiometricSurveyWetMountainsSouthCentralColorado2021.tfw</formspec>\n",
      "\t\t\t\t\t<formcont>J(oint) P(hotographic) E(xperts) Group (JPEG or JPG) raster image of Tok Alaska electromagnetic and magnetic airborne geophysical survey 2014 inverted resistivity models.</formcont>\n",
      "\t\t\t\t\t<filedec>No compression applied </filedec>\n",
      "\t\t\t\t\t<transize>2.035488</transize>\n",
      "\t\t\t\t</digtinfo>\n",
      "\t\t\t<digtopt>\n",
      "\t\t\t\t<onlinopt>\n",
      "\t\t\t\t\t<computer>\n",
      "\t\t\t\t\t\t<networka>\n",
      "\t\t\t\t\t\t\t<networkr>https://www.sciencebase.gov/catalog/item/623219c9d34ec9f19eeb418b</networkr>\n",
      "\t\t\t\t\t\t</networka>\n",
      "\t\t\t\t\t\t</computer>\n",
      "\t\t\t\t</onlinopt>\n",
      "\t\t\t</digtopt>\n",
      "\t\t</digform>\n",
      "\t\t\t<digform>\n",
      "\t\t\t\t<digtinfo>\n",
      "\t\t\t\t\t<formname>JPG</formname>\n",
      "\t\t\t\t\t<formvern>1</formvern>\n",
      "\t\t\t\t\t<formspec>RTPMag_AirborneMagneticAndRadiometricSurveyWetMountainsSouthCentralColorado2021.tif</formspec>\n",
      "\t\t\t\t\t<formcont>J(oint) P(hotographic) E(xperts) Group (JPEG or JPG) raster image of Tok Alaska electromagnetic and magnetic airborne geophysical survey 2014 inverted resistivity models.</formcont>\n",
      "\t\t\t\t\t<filedec>No compression applied </filedec>\n",
      "\t\t\t\t\t<transize>2.035488</transize>\n",
      "\t\t\t\t</digtinfo>\n",
      "\t\t\t<digtopt>\n",
      "\t\t\t\t<onlinopt>\n",
      "\t\t\t\t\t<computer>\n",
      "\t\t\t\t\t\t<networka>\n",
      "\t\t\t\t\t\t\t<networkr>https://www.sciencebase.gov/catalog/item/623219c9d34ec9f19eeb418b</networkr>\n",
      "\t\t\t\t\t\t</networka>\n",
      "\t\t\t\t\t\t</computer>\n",
      "\t\t\t\t</onlinopt>\n",
      "\t\t\t</digtopt>\n",
      "\t\t</digform>\n",
      "\t\t\t<digform>\n",
      "\t\t\t\t<digtinfo>\n",
      "\t\t\t\t\t<formname>JPG</formname>\n",
      "\t\t\t\t\t<formvern>1</formvern>\n",
      "\t\t\t\t\t<formspec>RTPMag_AirborneMagneticAndRadiometricSurveyWetMountainsSouthCentralColorado2021.tif.aux.xml</formspec>\n",
      "\t\t\t\t\t<formcont>J(oint) P(hotographic) E(xperts) Group (JPEG or JPG) raster image of Tok Alaska electromagnetic and magnetic airborne geophysical survey 2014 inverted resistivity models.</formcont>\n",
      "\t\t\t\t\t<filedec>No compression applied </filedec>\n",
      "\t\t\t\t\t<transize>2.035488</transize>\n",
      "\t\t\t\t</digtinfo>\n",
      "\t\t\t<digtopt>\n",
      "\t\t\t\t<onlinopt>\n",
      "\t\t\t\t\t<computer>\n",
      "\t\t\t\t\t\t<networka>\n",
      "\t\t\t\t\t\t\t<networkr>https://www.sciencebase.gov/catalog/item/623219c9d34ec9f19eeb418b</networkr>\n",
      "\t\t\t\t\t\t</networka>\n",
      "\t\t\t\t\t\t</computer>\n",
      "\t\t\t\t</onlinopt>\n",
      "\t\t\t</digtopt>\n",
      "\t\t</digform>\n",
      "\t\t\t<digform>\n",
      "\t\t\t\t<digtinfo>\n",
      "\t\t\t\t\t<formname>JPG</formname>\n",
      "\t\t\t\t\t<formvern>1</formvern>\n",
      "\t\t\t\t\t<formspec>RTPMag_AirborneMagneticAndRadiometricSurveyWetMountainsSouthCentralColorado2021.tif.ovr</formspec>\n",
      "\t\t\t\t\t<formcont>J(oint) P(hotographic) E(xperts) Group (JPEG or JPG) raster image of Tok Alaska electromagnetic and magnetic airborne geophysical survey 2014 inverted resistivity models.</formcont>\n",
      "\t\t\t\t\t<filedec>No compression applied </filedec>\n",
      "\t\t\t\t\t<transize>2.035488</transize>\n",
      "\t\t\t\t</digtinfo>\n",
      "\t\t\t<digtopt>\n",
      "\t\t\t\t<onlinopt>\n",
      "\t\t\t\t\t<computer>\n",
      "\t\t\t\t\t\t<networka>\n",
      "\t\t\t\t\t\t\t<networkr>https://www.sciencebase.gov/catalog/item/623219c9d34ec9f19eeb418b</networkr>\n",
      "\t\t\t\t\t\t</networka>\n",
      "\t\t\t\t\t\t</computer>\n",
      "\t\t\t\t</onlinopt>\n",
      "\t\t\t</digtopt>\n",
      "\t\t</digform>\n",
      "\t\t\t\t\t\t<fees>none</fees>\n",
      "\t\t</stdorder>\n"
     ]
    }
   ],
   "source": [
    "#Change this URL for each child\n",
    "jpgURL = 'https://www.sciencebase.gov/catalog/item/623219c9d34ec9f19eeb418b'\n",
    "\n",
    "arrJpgFileSize = []\n",
    "for i in range(len(arrayFileListing)):\n",
    "    jpgFilePath = pngDirPath + \"\\\\\" + pngFileName #arrayFileListing[i]\n",
    "# Get file sizes\n",
    "    jpgFilesize = os.path.getsize(jpgFilePath)\n",
    "    jpgFilesize = jpgFilesize/1000000 # convert file size from bytes to megabytes\n",
    "    arrJpgFileSize.append(jpgFilesize)\n",
    "      \n",
    "\n",
    "txtStdOrder = '\\t\\t<stdorder>'\n",
    "for i in range(len(arrayFileListing)):\n",
    " txtStdOrder = txtStdOrder + '\\n\\t\\t\\t<digform>' +  '\\n\\t\\t\\t\\t<digtinfo>' \\\n",
    "    + '\\n\\t\\t\\t\\t\\t<formname>JPG</formname>' \\\n",
    "    + '\\n\\t\\t\\t\\t\\t<formvern>' + '1' + '</formvern>' \\\n",
    "    + '\\n\\t\\t\\t\\t\\t<formspec>' + arrayFileListing[i] + '</formspec>' \\\n",
    "    + '\\n\\t\\t\\t\\t\\t<formcont>J(oint) P(hotographic) E(xperts) Group (JPEG or JPG) raster image of Tok Alaska electromagnetic and magnetic airborne geophysical survey 2014 inverted resistivity models.</formcont>' \\\n",
    "    + '\\n\\t\\t\\t\\t\\t<filedec>' + 'No compression applied </filedec>' \\\n",
    "    + '\\n\\t\\t\\t\\t\\t<transize>' + str(arrJpgFileSize[i]) + '</transize>\\n\\t\\t\\t\\t' \\\n",
    "    + '</digtinfo>' + '\\n\\t\\t\\t<digtopt>' + '\\n\\t\\t\\t\\t<onlinopt>' + '\\n\\t\\t\\t\\t\\t<computer>' + '\\n\\t\\t\\t\\t\\t\\t<networka>' \\\n",
    "    + '\\n\\t\\t\\t\\t\\t\\t\\t<networkr>' + jpgURL + '</networkr>' + '\\n\\t\\t\\t\\t\\t\\t</networka>' \\\n",
    "    + '\\n\\t\\t\\t\\t\\t\\t</computer>' + '\\n\\t\\t\\t\\t</onlinopt>' + '\\n\\t\\t\\t</digtopt>\\n\\t\\t</digform>'\n",
    "    \n",
    "txtStdOrder = txtStdOrder  + '\\n\\t\\t\\t\\t\\t\\t<fees>' + 'none' + '</fees>' + '\\n\\t\\t</stdorder>'\n",
    "\n",
    "stdorder = txtStdOrder\n",
    "print(str(stdorder))\n"
   ]
  },
  {
   "cell_type": "markdown",
   "metadata": {},
   "source": [
    "# Populate Metadata Template"
   ]
  },
  {
   "cell_type": "code",
   "execution_count": 115,
   "metadata": {},
   "outputs": [
    {
     "name": "stdout",
     "output_type": "stream",
     "text": [
      "Metadata path: C:\\CurrentWork\\DataReleases\\IP-139145_WetMountains\n",
      "\n",
      "['<?xml version=\"1.0\" encoding=\"UTF-8\"?>\\n', '<metadata>\\n', '  <idinfo>\\n', '    <citation>\\n', '      <citeinfo>{origin}\\n', '        <pubdate>{pubdate}</pubdate>\\n', '        <title>{title}</title>\\n', '        <geoform>tabular digital data</geoform>\\n', '        <pubinfo>\\n', '          <pubplace>Denver, CO</pubplace>\\n', '          <publish>U.S. Geological Survey</publish>\\n', '        </pubinfo>\\n', '        <othercit>{othercit}</othercit>\\n', '        <onlink>{onlink}</onlink>\\n', '        <lworkcit>\\n', '          <citeinfo>\\n', '            <origin>Day, W.D.</origin>\\n', '            <pubdate>2019</pubdate>\\n', '            <title>The Earth MappingResources Initiative (Earth MRI)</title>\\n', '            <edition>1.0</edition>\\n', '            <serinfo>\\n', '              <sername>Mapping the nations critical mineral resources: U.S. Geological Survey Fact Sheet 2019-3007</sername>\\n', '              <issue>2019-3007</issue>\\n', '            </serinfo>\\n', '            <pubinfo>\\n', '              <pubplace>Reston, VA</pubplace>\\n', '              <publish>United States Geological Survey</publish>\\n', '            </pubinfo>\\n', '            <othercit>Day, W.D., 2019, The Earth MappingResources Initiative (Earth MRI): Mapping the nations critical mineral resources: U.S. Geological Survey Fact Sheet 2019-3007, https://pubs.usgs.gov/fs/2019/3007/fs20193007.pdf.</othercit>\\n', '            <onlink>https://pubs.usgs.gov/fs/2019/3007/fs20193007.pdf</onlink>\\n', '            <onlink>https://permanent.fdlp.gov/gpo117974/fs20193007.pdf</onlink>\\n', '            <onlink>https://www.usgs.gov/special-topics/earth-mri</onlink>\\n', '          </citeinfo>\\n', '        </lworkcit>\\n', '      </citeinfo>\\n', '    </citation>\\n', '    <descript>\\n', '      <abstract>{abstract}</abstract>\\n', '      <purpose>{purpose}</purpose>\\n', '      <supplinf>{supplinf}</supplinf>\\n', '    </descript>\\n', '    <timeperd>\\n', '      <timeinfo>\\n', '        <rngdates>\\n', '          <begdate>{begdate}</begdate>\\n', '          <enddate>{enddate}</enddate>\\n', '        </rngdates>\\n', '      </timeinfo>\\n', '      <current>ground condition</current>\\n', '    </timeperd>\\n', '    <status>\\n', '      <progress>Complete</progress>\\n', '      <update>Not planned</update>\\n', '    </status>\\n', '    <spdom>\\n', '      <bounding>\\n', '        <westbc>{westbc}</westbc>\\n', '        <eastbc>{eastbc}</eastbc>\\n', '        <northbc>{northbc}</northbc>\\n', '        <southbc>{southbc}</southbc>\\n', '      </bounding>\\n', '    </spdom>\\n', ' {keywords}\\n', '    <accconst>{accconst}</accconst>\\n', '    <useconst>{useconst}</useconst>\\n', '    <ptcontac>\\n', '      <cntinfo>\\n', '        <cntorgp>\\n', '          <cntorg>U.S. Geological Survey</cntorg>\\n', '          <cntper>{cntperDataContact}</cntper>\\n', '        </cntorgp>\\n', '        <cntpos>{cntposDataContact}</cntpos>\\n', '        <cntaddr>\\n', '          <addrtype>mailing and physical</addrtype>\\n', '          <address>PO Box 25046, Mail Stop 973, Bldg 20, Denver Federal Center, W 6th Ave and Kipling St</address>\\n', '          <city>Denver</city>\\n', '          <state>CO</state>\\n', '          <postal>80225-0046</postal>\\n', '          <country>US</country>\\n', '        </cntaddr>\\n', '        <cntvoice>{cntvoiceDataContact}</cntvoice>\\n', '        <cntemail>{cntemailDataContact}</cntemail>\\n', '      </cntinfo>\\n', '    </ptcontac>\\n', '    <datacred>{datacred}</datacred>\\n', '  </idinfo>\\n', '  <dataqual>\\n', '    <attracc>\\n', '      <attraccr>{attraccr}</attraccr>\\n', '    </attracc>\\n', '    <logic>{logic}</logic>\\n', '    <complete>{complete}</complete>\\n', '    <posacc>\\n', '      <horizpa>\\n', '        <horizpar>{horizpar}</horizpar>\\n', '      </horizpa>\\n', '      <vertacc>\\n', '        <vertaccr>{vertaccr}</vertaccr>\\n', '      </vertacc>\\n', '    </posacc>\\n', ' {lineage}\\n', '  </dataqual>\\n', '  <spdoinfo>\\n', '\\t\\t<indspref>Upper Peninsula Area, MI</indspref>\\n', '\\t\\t<direct>Point</direct>\\n', '\\t</spdoinfo>\\n', '  <spref>\\n', '    <horizsys>\\n', '      <geograph>\\n', '        <latres>{latres}</latres>\\n', '        <longres>{longres}</longres>\\n', '        <geogunit>Decimal degrees</geogunit>\\n', '      </geograph>\\n', '      <geodetic>\\n', '        <horizdn>{horizdn}</horizdn>\\n', '        <ellips>{ellips}</ellips>\\n', '        <semiaxis>{semiaxis}</semiaxis>\\n', '        <denflat>{denflat}</denflat>\\n', '      </geodetic>\\n', '    </horizsys>\\n', '  </spref>\\n', '  <eainfo>{eainfo}</eainfo>\\n', '  <distinfo>\\n', '    <distrib>\\n', '      <cntinfo>\\n', '        <cntorgp>\\n', '          <cntorg>ScienceBase</cntorg>\\n', '          <cntper>U.S. Geological Survey</cntper>\\n', '        </cntorgp>\\n', '        <cntaddr>\\n', '          <addrtype>mailing and physical</addrtype>\\n', '          <address>Denver Federal Center, Building 810, Mail Stop 302</address>\\n', '          <city>Denver</city>\\n', '          <state>CO</state>\\n', '          <postal>80225</postal>\\n', '          <country>USA</country>\\n', '        </cntaddr>\\n', '        <cntvoice>1-888-275-8747</cntvoice>\\n', '        <cntemail>sciencebase@usgs.gov</cntemail>\\n', '      </cntinfo>\\n', '    </distrib>\\n', '    <resdesc>{resdesc}</resdesc>\\n', '    <distliab>{distliab}</distliab>\\n', '  \\t{stdorder}\\n', '  </distinfo>\\n', '  <metainfo>\\n', '    <metd>{metd}</metd>\\n', '    <metc>\\n', '      <cntinfo>\\n', '        <cntperp>\\n', '          <cntper>{cntperMetaInfo}</cntper>\\n', '          <cntorg>U.S. Geological Survey</cntorg>\\n', '        </cntperp>\\n', '        <cntpos>{cntposMetaInfo}</cntpos>\\n', '        <cntaddr>\\n', '          <addrtype>mailing and physical</addrtype>\\n', '          <address>PO Box 25046, Mail Stop 973, Bldg 20, Denver Federal Center, W 6th Ave and Kipling St</address>\\n', '          <city>Denver</city>\\n', '          <state>CO</state>\\n', '          <postal>80225-0046</postal>\\n', '          <country>US</country>\\n', '        </cntaddr>\\n', '        <cntvoice>{cntvoiceMetaInfo}</cntvoice>\\n', '        <cntemail>{cntemailMetaInfo}</cntemail>\\n', '      </cntinfo>\\n', '    </metc>\\n', '    <metstdn>FGDC Content Standard for Digital Geospatial Metadata</metstdn>\\n', '    <metstdv>FGDC-STD-001-1998</metstdv>\\n', '  </metainfo>\\n', '</metadata>\\n']\n"
     ]
    }
   ],
   "source": [
    "#Load XML Metadata Template File and Read It\n",
    "metaData = os.path.join(magMetaDataTemplatePath, magMetaDataTemplateName)\n",
    "print ('Metadata path: ' + magMetaDataTemplatePath + '\\n')\n",
    "xmlTemplateFile = open(metaData, 'r')\n",
    "metaDataContent = xmlTemplateFile.readlines()\n",
    "print(metaDataContent)\n",
    "xmlTemplateFile.close()\n"
   ]
  },
  {
   "cell_type": "markdown",
   "metadata": {},
   "source": [
    "### !!! Be sure to enter output file name for the metadata below !!!"
   ]
  },
  {
   "cell_type": "code",
   "execution_count": 116,
   "metadata": {},
   "outputs": [],
   "source": [
    "# Please enter metadata output file name below between the single quotes\n",
    "#========================================================================================================================\n",
    "magMetadataOutputFileName = 'AirborneMagneticSurveyWetMountainsSouthCentralColorado2021_Metadata--NEW.xml'\n",
    "#========================================================================================================================"
   ]
  },
  {
   "cell_type": "code",
   "execution_count": 117,
   "metadata": {},
   "outputs": [
    {
     "name": "stdout",
     "output_type": "stream",
     "text": [
      "File exported to:\n",
      "C:\\CurrentWork\\DataReleases\\IP-139145_WetMountains\\AirborneMagneticSurveyWetMountainsSouthCentralColorado2021_Metadata--NEW.xml\n",
      "Creation of new metadata file is complete\n",
      "\n",
      "\n"
     ]
    }
   ],
   "source": [
    "# Replace values of current metadata template with the appropriate values.  \n",
    "# All of this input should have been defined when going through the steps outlined above.\n",
    "lineString = ''\n",
    "#newMetaDataContent = metaDataContent\n",
    "myfilename = magMetaDataTemplatePath + \"\\\\\" + magMetadataOutputFileName\n",
    "xmlFile = open(myfilename,\"w+\")\n",
    "print('File exported to:\\n'+ myfilename)\n",
    "#print(keywords.value)\n",
    "for i in range(len(metaDataContent)):\n",
    "    lineString = metaDataContent[i]\n",
    "    if lineString.find('{origin}'):\n",
    "     lineString = lineString.replace('{origin}',origin)\n",
    "    \n",
    "    if lineString.find('{pubdate}'):\n",
    "     lineString = lineString.replace('{pubdate}', pubdate)    \n",
    "    \n",
    "    if lineString.find('{title}'):\n",
    "     lineString = lineString.replace('{title}', title)\n",
    "    \n",
    "    if lineString.find('{othercit}'):\n",
    "     lineString = lineString.replace('{othercit}', othercit)\n",
    "    \n",
    "    if lineString.find('{onlink}'):\n",
    "     lineString = lineString.replace('{onlink}', onlink)\n",
    "    \n",
    "    if lineString.find('{abstract}'):\n",
    "     lineString = lineString.replace('{abstract}', abstract)\n",
    "    \n",
    "    if lineString.find('{purpose}'):\n",
    "     lineString = lineString.replace('{purpose}', purpose)\n",
    "    \n",
    "    if lineString.find('{supplinf}'):\n",
    "     lineString = lineString.replace('{supplinf}', supplinf)\n",
    "    \n",
    "    if lineString.find('{begdate}'):\n",
    "     lineString = lineString.replace('{begdate}', begdate)\n",
    "    \n",
    "    if lineString.find('{enddate}'):\n",
    "     lineString = lineString.replace('{enddate}', enddate)\n",
    "    \n",
    "    if lineString.find('{westbc}'):\n",
    "     lineString = lineString.replace('{westbc}', str(westbc))\n",
    "\n",
    "    if lineString.find('{eastbc}'):\n",
    "     lineString = lineString.replace('{eastbc}', str(eastbc))\n",
    "\n",
    "    if lineString.find('{northbc}'):\n",
    "     lineString = lineString.replace('{northbc}', str(northbc))\n",
    "    \n",
    "    if lineString.find('{southbc}'):\n",
    "     lineString = lineString.replace('{southbc}', str(southbc))\n",
    "   \n",
    "    if lineString.find('{keywords}'):\n",
    "     lineString = lineString.replace('{keywords}', str(keywords))\n",
    "    \n",
    "    if lineString.find('{accconst}'):\n",
    "     lineString = lineString.replace('{accconst}', accconst)\n",
    "    \n",
    "    if lineString.find('{useconst}'):\n",
    "     lineString = lineString.replace('{useconst}', useconst)\n",
    "    \n",
    "    if lineString.find('{cntperDataContact}'):\n",
    "     lineString = lineString.replace('{cntperDataContact}', cntperDataContact)\n",
    "    \n",
    "    if lineString.find('{cntposDataContact}'):\n",
    "     lineString = lineString.replace('{cntposDataContact}', cntposDataContact)\n",
    "    \n",
    "    if lineString.find('{cntvoiceDataContact}'):\n",
    "     lineString = lineString.replace('{cntvoiceDataContact}', str(cntvoiceDataContact))\n",
    "    \n",
    "    if lineString.find('{cntemailDataContact}'):\n",
    "     lineString = lineString.replace('{cntemailDataContact}', str(cntemailDataContact))\n",
    "    \n",
    "    if lineString.find('{datacred}'):\n",
    "     lineString = lineString.replace('{datacred}', str(datacred))\n",
    "    \n",
    "    if lineString.find('{attraccr}'):\n",
    "     lineString = lineString.replace('{attraccr}', str(attraccr)) \n",
    "    \n",
    "    if lineString.find('{logic}'):\n",
    "     lineString = lineString.replace('{logic}', logic)\n",
    "    \n",
    "    if lineString.find('{complete}'):\n",
    "     lineString = lineString.replace('{complete}', str(complete))\n",
    "    \n",
    "    if lineString.find('{horizpar}'):\n",
    "     lineString = lineString.replace('{horizpar}', str(horizpar))\n",
    "    \n",
    "    if lineString.find('{vertaccr}'):\n",
    "     lineString = lineString.replace('{vertaccr}', str(vertaccr))\n",
    "    \n",
    "    if lineString.find('{lineage}'):\n",
    "     lineString = lineString.replace('{lineage}', str(lineage))\n",
    "    \n",
    "    if lineString.find('{latres}'):\n",
    "     lineString = lineString.replace('{latres}', str(latres))\n",
    "    \n",
    "    if lineString.find('{longres}'):\n",
    "     lineString = lineString.replace('{longres}', str(longres))\n",
    "    \n",
    "    if lineString.find('{horizdn}'):\n",
    "     lineString = lineString.replace('{horizdn}', str(horizdn))\n",
    "    \n",
    "    if lineString.find('{ellips}'):\n",
    "     lineString = lineString.replace('{ellips}', str(ellips))\n",
    "    \n",
    "    if lineString.find('{semiaxis}'):\n",
    "     lineString = lineString.replace('{semiaxis}', str(semiaxis))\n",
    "    \n",
    "    if lineString.find('{denflat}'):\n",
    "     lineString = lineString.replace('{denflat}', str(denflat))\n",
    "   \n",
    "    if lineString.find('{eainfo}'):\n",
    "     lineString = lineString.replace('{eainfo}', str(csvAttributes))\n",
    "    \n",
    "    if lineString.find('{distliab}'):\n",
    "     lineString = lineString.replace('{distliab}', str(distliab))\n",
    "    \n",
    "    if lineString.find('{metd}'):\n",
    "     lineString = lineString.replace('{metd}', str(metd))\n",
    "    \n",
    "    if lineString.find('{cntperMetaInfo}'):\n",
    "     lineString = lineString.replace('{cntperMetaInfo}', str(cntperMetaInfo))\n",
    "    \n",
    "    if lineString.find('{cntposMetaInfo}'):\n",
    "     lineString = lineString.replace('{cntposMetaInfo}', str(cntposMetaInfo))\n",
    "    \n",
    "    if lineString.find('{cntvoiceMetaInfo}'):\n",
    "     lineString = lineString.replace('{cntvoiceMetaInfo}', str(cntvoiceMetaInfo))\n",
    "    \n",
    "    if lineString.find('{cntemailMetaInfo}'):\n",
    "     lineString = lineString.replace('{cntemailMetaInfo}', str(cntemailMetaInfo))    \n",
    "    \n",
    "    if lineString.find('{stdorder}'):\n",
    "     lineString = lineString.replace('{stdorder}', str(stdorder))\n",
    "    \n",
    "    if lineString.find('{resdesc}'):\n",
    "     lineString = lineString.replace('{resdesc}', str(resdesc))\n",
    "    \n",
    "    else:\n",
    "     lineString = lineString\n",
    "    xmlFile.write(lineString)\n",
    "    \n",
    "    #print (lineString)\n",
    "     \n",
    "    \n",
    "    \n",
    "#for r in (metaDataContent):\n",
    "    #newMetaDataContent = metaDataContent.replace('{title}', drTitle)\n",
    "    #newMetaDataContent = metaDataContent.replace('{keywords}', keywords.value)\n",
    "xmlFile.close()\n",
    "\n",
    "print ('Creation of new metadata file is complete\\n\\n') \n",
    "#Load EDI File and Read It\n",
    "##checkFile = open(open(myfilename, 'r')\n",
    "##checkFileContent = checkFile.read()\n",
    "##checkFile.close()\n",
    "##print(checkFileContent)"
   ]
  },
  {
   "cell_type": "markdown",
   "metadata": {},
   "source": [
    "### Check this file to see if it is valid against the FGDC metadata standard (FGDC-STD-001-1998)\n",
    "\n",
    "## https://mrdata.usgs.gov/validation/"
   ]
  },
  {
   "cell_type": "code",
   "execution_count": null,
   "metadata": {},
   "outputs": [],
   "source": []
  }
 ],
 "metadata": {
  "kernelspec": {
   "display_name": "Python 3 (ipykernel)",
   "language": "python",
   "name": "python3"
  },
  "language_info": {
   "codemirror_mode": {
    "name": "ipython",
    "version": 3
   },
   "file_extension": ".py",
   "mimetype": "text/x-python",
   "name": "python",
   "nbconvert_exporter": "python",
   "pygments_lexer": "ipython3",
   "version": "3.9.7"
  }
 },
 "nbformat": 4,
 "nbformat_minor": 2
}
